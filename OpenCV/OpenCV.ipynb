{
  "nbformat": 4,
  "nbformat_minor": 0,
  "metadata": {
    "colab": {
      "private_outputs": true,
      "provenance": [],
      "collapsed_sections": [
        "S4cQTvDzsMaj",
        "qElF1a6fK8_g",
        "JcL4RacqLg4a",
        "Xu47-6EKOmiB",
        "vHw58l6zPUGM",
        "RZ5vqbGaPssQ"
      ]
    },
    "kernelspec": {
      "name": "python3",
      "display_name": "Python 3"
    },
    "language_info": {
      "name": "python"
    }
  },
  "cells": [
    {
      "cell_type": "markdown",
      "source": [
        "# OpenCV 한번에 끝내기\n"
      ],
      "metadata": {
        "id": "PImuS_Dwr83h"
      }
    },
    {
      "cell_type": "markdown",
      "source": [
        "저수준 영상 처리  \n",
        "고수준 영상 처리( 컴퓨터 비전 )\n",
        "\n",
        "### 영상 처리 응용 분야 \n",
        "    의료 분야\n",
        "        컴퓨터 단층촬영( CT ), 자기 공명영상( MRI ) \n",
        "        양전자 단층촬영( PET ) \n",
        "    방송 통신 분야\n",
        "        스포트 방송, 방송 서비스 \n",
        "    공장 자동화 분야 \n",
        "        제품 품질 모니터링 및 불량 제거 \n",
        "    기상 및 지질 탐사 분야\n",
        "        정보를 시각화 \n",
        "        영상 처리 기술로 표현 \n",
        "    애니메이션 및 게임 분야\n",
        "        촬영된 영상과 그래픽 기술이 조합\n",
        "        현실감 향상 \n",
        "    출판 및 사진 분야\n",
        "        영상 생성, 품질 향상 등     \n",
        "        새로운 합성 영상 \n",
        "\n",
        "### 컴퓨터 비전 처리 단계 \n",
        "\n",
        "<li>전치리 단계</li>  \n",
        "주로 영상처리 기술 사용    \n",
        " 다양한 특징 추출 : 에지, 선분, 영역, SIFT 등\n",
        "<li>고수준 처리</li>   \n",
        "특정정보를 사용하여 영상을 해석, 분류, 상황묘사 등 정보 생성   \n",
        "\n",
        "\n",
        "    "
      ],
      "metadata": {
        "id": "S4cQTvDzsMaj"
      }
    },
    {
      "cell_type": "markdown",
      "source": [
        "# 화소 ( Pixel ) \n",
        "    디지털 영상을 표현하는 2차원 배열에서 각 원소\n",
        "    해당 위치에서 빛의 세기에 대응하는 값\n",
        "        0은 검은색을 나타내고, 화소값이 커질수록 밝은 색\n",
        "    컬러 영상 \n",
        "        RGB 세 가지 색상에 대한 정보 화소 정보 표현"
      ],
      "metadata": {
        "id": "qElF1a6fK8_g"
      }
    },
    {
      "cell_type": "markdown",
      "source": [
        "# 이미지와 색공간\n",
        "    색 : 빛에서 주파수( 파장 )의 차이에 따라 다르게 느껴지는 색상  \n",
        "    가시광선 : 전자기파 중에서 인간이 인지할 수 있는 약 380mm ~ 780mm 사이의 파장\n",
        "    0 ~ 255 사이의 값으로 밝기를 표현 \n",
        "    color : 3차원 \n",
        "    gray scale : 2차원 \n",
        "        0 ~ 255의 값을 통해 밝기를 표현\n",
        "        0으로 갈수록 어두워지고, 255로 갈수록 밝아짐 \n",
        "\n"
      ],
      "metadata": {
        "id": "JcL4RacqLg4a"
      }
    },
    {
      "cell_type": "markdown",
      "source": [
        "# 이미지 파일 형식 \n",
        "    BMP\n",
        "        픽셀 데이터를 압축하지 않은 상태로 저장\n",
        "        파일 구조 간단하지만 용량이 매우 큼\n",
        "    JPG( JPEG )\n",
        "        손실 압축 사용\n",
        "        원본 영상으로부터 픽셀값이 미세하기 달라짐\n",
        "        파일 용량 크기가 크게 감소하는 점에서 장점\n",
        "        디지털 카메라\n",
        "    GIF\n",
        "        무손실 압축\n",
        "        움직이는 그림인 Animation GIF 지원\n",
        "        256 이하의 색상을 가진 영상만을 저하고, 화질이 매우 떨어짐\n",
        "    PNG\n",
        "        Portable Network Graphics\n",
        "        무손실 압축 사용\n",
        "        용량은 큰 편이지만 픽셀값이 변경되지 않음 \n",
        "        알파 채널을 지원하여 일부분을 투명하게 설정 가능"
      ],
      "metadata": {
        "id": "Xu47-6EKOmiB"
      }
    },
    {
      "cell_type": "markdown",
      "source": [
        "# OpenCV\n",
        "\n",
        "    실시간 컴퓨터 비전을 목적으로 인텔에서 개발\n",
        "    실시간 이미지 프로세싱에 중점을 둔 한 프로그래밍 라이브러리\n",
        "    TensorFIow, PyTorch 및 Caffe의 딥러닝 프레임워크 지원"
      ],
      "metadata": {
        "id": "vHw58l6zPUGM"
      }
    },
    {
      "cell_type": "markdown",
      "source": [
        "# 이미지 읽기 / 쓰기\n",
        "    이미지는 배열로 표현 가능 ( Numpy )"
      ],
      "metadata": {
        "id": "RZ5vqbGaPssQ"
      }
    },
    {
      "cell_type": "markdown",
      "source": [
        "# 이미지 읽기 ( PIL ) \n",
        "    pillow, matplotlib 와 OpenCV 모두 가능\n",
        "    구글 코랩, 주피터 노트북과 같은 환경에서는 pillow, matplotlib이 더 적합\n",
        "    OpenCV는 주로 파이썬 스크립트 환경에서 사용"
      ],
      "metadata": {
        "id": "0EyDOOR-PydK"
      }
    },
    {
      "cell_type": "code",
      "source": [
        "import cv2\n",
        "import numpy as np\n",
        "import matplotlib.pyplot as plt\n",
        "%matplotlib inline\n",
        "\n",
        "from PIL import Image\n",
        "import requests\n",
        "from io import BytesIO"
      ],
      "metadata": {
        "id": "Q1IwkX0GQdAZ"
      },
      "execution_count": null,
      "outputs": []
    },
    {
      "cell_type": "markdown",
      "source": [
        " url과 image객체를 활용하여 이미지 읽기 \n",
        "    "
      ],
      "metadata": {
        "id": "Lw5os1ykQdR-"
      }
    },
    {
      "cell_type": "code",
      "source": [
        "url = 'https://cdn.pixabay.com/photo/2018/10/01/09/21/pets-3715733_960_720.jpg'\n",
        "\n",
        "response = requests.get(url)\n",
        "pic = Image.open(BytesIO(response.content))"
      ],
      "metadata": {
        "id": "4wBEK5m-h2uo"
      },
      "execution_count": null,
      "outputs": []
    },
    {
      "cell_type": "markdown",
      "source": [
        "# 이미지 출력 ( PIL )"
      ],
      "metadata": {
        "id": "uL4iJ9iaiXuy"
      }
    },
    {
      "cell_type": "code",
      "source": [
        "pic"
      ],
      "metadata": {
        "id": "nYqnUrLwiXJ3"
      },
      "execution_count": null,
      "outputs": []
    },
    {
      "cell_type": "markdown",
      "source": [
        "# 타입 ( type ) 확인"
      ],
      "metadata": {
        "id": "_AkDmeomidC1"
      }
    },
    {
      "cell_type": "code",
      "source": [
        "type(pic)"
      ],
      "metadata": {
        "id": "cWirb0k_ibml"
      },
      "execution_count": null,
      "outputs": []
    },
    {
      "cell_type": "markdown",
      "source": [
        "# PIL 이미지를 array형으로 형변환"
      ],
      "metadata": {
        "id": "WE4deVoDijCp"
      }
    },
    {
      "cell_type": "code",
      "source": [
        "pic_arr = np.asarray(pic) #np.asarray()"
      ],
      "metadata": {
        "id": "0EaCJieTihWc"
      },
      "execution_count": null,
      "outputs": []
    },
    {
      "cell_type": "code",
      "source": [
        "type(pic_arr)"
      ],
      "metadata": {
        "id": "7eh1LrRQitSj"
      },
      "execution_count": null,
      "outputs": []
    },
    {
      "cell_type": "code",
      "source": [
        "pic_arr.shape # 3 = RGB"
      ],
      "metadata": {
        "id": "zjd_FTGbi4CP"
      },
      "execution_count": null,
      "outputs": []
    },
    {
      "cell_type": "code",
      "source": [
        "pic_arr # pic_arr에 들어 있는 정보 "
      ],
      "metadata": {
        "id": "rrsN_Mdvi8BF"
      },
      "execution_count": null,
      "outputs": []
    },
    {
      "cell_type": "code",
      "source": [
        "plt.imshow(pic_arr)\n",
        "plt.show()"
      ],
      "metadata": {
        "id": "KLQgh1wXjMGR"
      },
      "execution_count": null,
      "outputs": []
    },
    {
      "cell_type": "markdown",
      "source": [
        "# 이미지 출력 ( matplotlib ) \n",
        "RGB에 따라 이미지 확인"
      ],
      "metadata": {
        "id": "PqMEPEnRjZ-i"
      }
    },
    {
      "cell_type": "code",
      "source": [
        "pic_copy = pic_arr.copy()"
      ],
      "metadata": {
        "id": "hjTXnhw4jU7A"
      },
      "execution_count": null,
      "outputs": []
    },
    {
      "cell_type": "code",
      "source": [
        "plt.imshow(pic_copy)\n",
        "plt.show()"
      ],
      "metadata": {
        "id": "mV_GYxQDjkCV"
      },
      "execution_count": null,
      "outputs": []
    },
    {
      "cell_type": "code",
      "source": [
        "pic_copy.shape"
      ],
      "metadata": {
        "id": "-DY-O9T4j-Uh"
      },
      "execution_count": null,
      "outputs": []
    },
    {
      "cell_type": "markdown",
      "source": [
        "채널 순서 ( R G B : 0 1 2 )"
      ],
      "metadata": {
        "id": "peIQOs13kChK"
      }
    },
    {
      "cell_type": "code",
      "source": [
        "print(pic_copy[:, :, 0]) # 레드 채널 \n",
        "print(pic_copy[:, :, 0].shape)"
      ],
      "metadata": {
        "id": "-4HgQsMMkBrE"
      },
      "execution_count": null,
      "outputs": []
    },
    {
      "cell_type": "code",
      "source": [
        "plt.imshow(pic_copy[:, :, 0])\n",
        "plt.show()"
      ],
      "metadata": {
        "id": "ArjrmxYskTPf"
      },
      "execution_count": null,
      "outputs": []
    },
    {
      "cell_type": "code",
      "source": [
        "plt.imshow(pic_copy[:, :, 0], cmap='gray')\n",
        "plt.show()"
      ],
      "metadata": {
        "id": "P3GbPdI-kfzE"
      },
      "execution_count": null,
      "outputs": []
    },
    {
      "cell_type": "markdown",
      "source": [
        "채널 순서 (R G B : 0 1 2 )\n"
      ],
      "metadata": {
        "id": "_MmFKPO-k7ZN"
      }
    },
    {
      "cell_type": "code",
      "source": [
        "print(pic_copy[:, :, 1])\n",
        "print(pic_copy[:, :, 1].shape)"
      ],
      "metadata": {
        "id": "4QS2Xi0IlBo-"
      },
      "execution_count": null,
      "outputs": []
    },
    {
      "cell_type": "code",
      "source": [
        "plt.imshow(pic_copy[:, :, 1], cmap='gray')\n",
        "plt.show()"
      ],
      "metadata": {
        "id": "SNHY7awKlIKD"
      },
      "execution_count": null,
      "outputs": []
    },
    {
      "cell_type": "markdown",
      "source": [
        "채널 순서 ( R G B : 0 1 2 )"
      ],
      "metadata": {
        "id": "SBNAYKVJlInt"
      }
    },
    {
      "cell_type": "code",
      "source": [
        "print(pic_copy[:, :, 2])\n",
        "print(pic_copy[:, :, 2].shape)"
      ],
      "metadata": {
        "id": "V7s2BhZqlebJ"
      },
      "execution_count": null,
      "outputs": []
    },
    {
      "cell_type": "code",
      "source": [
        "plt.imshow(pic_copy[:, :, 2], cmap='gray')\n",
        "plt.show()"
      ],
      "metadata": {
        "id": "-9dNo_WllnMP"
      },
      "execution_count": null,
      "outputs": []
    },
    {
      "cell_type": "markdown",
      "source": [
        "R 채널 분포 확인\n"
      ],
      "metadata": {
        "id": "0rICaWdBlzWi"
      }
    },
    {
      "cell_type": "code",
      "source": [
        "pic_red = pic_arr.copy()\n",
        "pic_red[:, :, 1] = 0\n",
        "pic_red[:, :, 2] = 0"
      ],
      "metadata": {
        "id": "XCNa6yHFl1Vu"
      },
      "execution_count": null,
      "outputs": []
    },
    {
      "cell_type": "code",
      "source": [
        "pic_red"
      ],
      "metadata": {
        "id": "DssyemF_mLSk"
      },
      "execution_count": null,
      "outputs": []
    },
    {
      "cell_type": "code",
      "source": [
        "plt.imshow(pic_red)\n",
        "plt.show()"
      ],
      "metadata": {
        "id": "jgtW0f2WmMVb"
      },
      "execution_count": null,
      "outputs": []
    },
    {
      "cell_type": "code",
      "source": [
        "pic_green = pic_arr.copy()\n",
        "pic_green[:, :, 0] = 0\n",
        "pic_green[:, :, 2] = 0 "
      ],
      "metadata": {
        "id": "SSsj9eaQ-47y"
      },
      "execution_count": null,
      "outputs": []
    },
    {
      "cell_type": "code",
      "source": [
        "pic_green"
      ],
      "metadata": {
        "id": "p9swEmdH_IED"
      },
      "execution_count": null,
      "outputs": []
    },
    {
      "cell_type": "code",
      "source": [
        "plt.imshow(pic_green)\n",
        "plt.show()"
      ],
      "metadata": {
        "id": "7NHt0kMm_UK1"
      },
      "execution_count": null,
      "outputs": []
    },
    {
      "cell_type": "code",
      "source": [
        "pic_blue = pic_arr.copy()\n",
        "pic_blue[:, :, 0] = 0\n",
        "pic_blue[:, :, 1] = 0"
      ],
      "metadata": {
        "id": "BqQ2dTiO_avk"
      },
      "execution_count": null,
      "outputs": []
    },
    {
      "cell_type": "code",
      "source": [
        "pic_blue"
      ],
      "metadata": {
        "id": "w6nK-rGn_pB2"
      },
      "execution_count": null,
      "outputs": []
    },
    {
      "cell_type": "code",
      "source": [
        "plt.imshow(pic_blue)\n",
        "plt.show()"
      ],
      "metadata": {
        "id": "c1gC38jG_qKU"
      },
      "execution_count": null,
      "outputs": []
    },
    {
      "cell_type": "code",
      "source": [
        "pic_arr"
      ],
      "metadata": {
        "id": "fhl5HadF_t5T"
      },
      "execution_count": null,
      "outputs": []
    },
    {
      "cell_type": "markdown",
      "source": [
        "# 이미지 출력\n",
        "    from google.colab.patches import cv2_imshow\n",
        "    cv2.imshow"
      ],
      "metadata": {
        "id": "5jfHYbEw_v72"
      }
    },
    {
      "cell_type": "code",
      "source": [
        "from google.colab.patches import cv2_imshow\n"
      ],
      "metadata": {
        "id": "MaMpWowC_8IS"
      },
      "execution_count": null,
      "outputs": []
    },
    {
      "cell_type": "code",
      "source": [
        "cv2_imshow(pic_arr)"
      ],
      "metadata": {
        "id": "q3w-Oc_9AC23"
      },
      "execution_count": null,
      "outputs": []
    },
    {
      "cell_type": "markdown",
      "source": [
        "# OpenCV의 채널 순서\n",
        "    OpenCV를 통해 영상(이미지)을 다룰 때의 채널 순서는 B G R\n",
        "    matplotlib은 R G B 순서"
      ],
      "metadata": {
        "id": "vB_zdhkRH7M2"
      }
    },
    {
      "cell_type": "markdown",
      "source": [
        "`cv2.cvtColor()`\n",
        "  \n",
        "  - image arrary, 변경할 색공간을 인자로 넣어줌 \n",
        "  - 변경할 색공간은 여러 가지가 있음\n",
        "    - `cv2.COLOR_BGR2RGB`\n",
        "    - `cv2.COLOR_RGB2GRAY`\n",
        "    - `cv2.COLOR_GRAY2RGB`\n",
        "    - ...\n",
        "    "
      ],
      "metadata": {
        "id": "WKfMjPaJ74Jz"
      }
    },
    {
      "cell_type": "code",
      "source": [
        "image = cv2.cvtColor(pic_arr, cv2.COLOR_RGB2BGR )\n",
        "cv2_imshow(image)"
      ],
      "metadata": {
        "id": "8w5ij77o75z_"
      },
      "execution_count": null,
      "outputs": []
    },
    {
      "cell_type": "markdown",
      "source": [
        "image, pic_arr 비교\n",
        "    0 1 2 인덱스 중 0, 2가 바뀐 것을 알 수 있음."
      ],
      "metadata": {
        "id": "9BO9g2KX89v2"
      }
    },
    {
      "cell_type": "code",
      "source": [
        "print(image[0][0])"
      ],
      "metadata": {
        "id": "8-A3SDb79GI5"
      },
      "execution_count": null,
      "outputs": []
    },
    {
      "cell_type": "code",
      "source": [
        "print(pic_arr[0][0])"
      ],
      "metadata": {
        "id": "xCbRtNPS9tiF"
      },
      "execution_count": null,
      "outputs": []
    },
    {
      "cell_type": "code",
      "source": [
        "temp_arr = pic_arr[:,:,::-1 ]"
      ],
      "metadata": {
        "id": "BO5TP9Uu95jG"
      },
      "execution_count": null,
      "outputs": []
    },
    {
      "cell_type": "code",
      "source": [
        "print(pic_arr[0][0])"
      ],
      "metadata": {
        "id": "nKGZ-fnP9_LQ"
      },
      "execution_count": null,
      "outputs": []
    },
    {
      "cell_type": "code",
      "source": [
        "print(temp_arr[0][0])"
      ],
      "metadata": {
        "id": "Wi45PtpQ-D5e"
      },
      "execution_count": null,
      "outputs": []
    },
    {
      "cell_type": "markdown",
      "source": [
        "## 이미지 읽기(OpenCV)\n",
        "`cv2.imread()`\n",
        "\n",
        "- path, 이미지 파일의 flag값을 인자로 넣어줌\n",
        "  - `cv2.IMREAD_COLOR`: 이미지 파일을 Color로 읽어들이고, 투명한 부분은 무시되며, Default 값\n",
        "  - `cv2.IMREAD_GRAYSCALE`: 이미지를 Grayscale로 읽음. 실제 이미지 처리시 중간단계로 많이 사용\n",
        "  - `cv2.IMREAD_UNCHANGED`: 이미지 파일을 alpha channel (투명도)까지 포함하여 읽어 들임\n",
        "\n",
        "- **(주의)** `cv2.imread()`는 잘못된 경로로 읽어도 `NoneType`으로 들어갈 뿐, <u>오류를 발생하지 않음</u>"
      ],
      "metadata": {
        "id": "7EHwxJCXUmS3"
      }
    },
    {
      "cell_type": "markdown",
      "source": [
        "- Lion.jpg (https://cdn.pixabay.com/photo/2021/07/13/20/00/lion-6464429_960_720.jpg)\n",
        "\n",
        "  <img src=\"https://cdn.pixabay.com/photo/2021/07/13/20/00/lion-6464429_960_720.jpg\" width=\"300\">\n",
        "  \n",
        "  "
      ],
      "metadata": {
        "id": "ajqbCQiJ_qBm"
      }
    },
    {
      "cell_type": "code",
      "source": [
        "!wget -O lion.jpg https://cdn.pixabay.com/photo/2021/07/13/20/00/lion-6464429_960_720.jpg"
      ],
      "metadata": {
        "id": "So0B8b3VAHI4"
      },
      "execution_count": null,
      "outputs": []
    },
    {
      "cell_type": "markdown",
      "source": [
        "### 이미지가 안불러와짐"
      ],
      "metadata": {
        "id": "QFEoqZAxADdS"
      }
    },
    {
      "cell_type": "code",
      "source": [
        "image = cv2.imread('/content/lion.jpg', cv2.IMREAD_UNCHANGED)"
      ],
      "metadata": {
        "id": "7qQUWJXG_Kbg"
      },
      "execution_count": null,
      "outputs": []
    },
    {
      "cell_type": "code",
      "source": [
        "print(type(image))"
      ],
      "metadata": {
        "id": "h0uuyCYaATIF"
      },
      "execution_count": null,
      "outputs": []
    },
    {
      "cell_type": "code",
      "source": [
        "print(image)"
      ],
      "metadata": {
        "id": "TgX2mLX5AXEb"
      },
      "execution_count": null,
      "outputs": []
    },
    {
      "cell_type": "code",
      "source": [
        "from google.colab.patches import cv2_imshow"
      ],
      "metadata": {
        "id": "lKjVKbU1AcVG"
      },
      "execution_count": null,
      "outputs": []
    },
    {
      "cell_type": "code",
      "source": [
        "cv2_imshow(image)"
      ],
      "metadata": {
        "id": "7NKQr1mLAr8q"
      },
      "execution_count": null,
      "outputs": []
    },
    {
      "cell_type": "code",
      "source": [
        "plt.imshow(image)\n",
        "plt.show()"
      ],
      "metadata": {
        "id": "NCD0N1ZvA4MF"
      },
      "execution_count": null,
      "outputs": []
    },
    {
      "cell_type": "code",
      "source": [
        "img_gray = cv2.imread('/content/lion.jpg', cv2.IMREAD_GRAYSCALE)"
      ],
      "metadata": {
        "id": "liAbWMLFBPsh"
      },
      "execution_count": null,
      "outputs": []
    },
    {
      "cell_type": "code",
      "source": [
        "print(img_gray.shape)"
      ],
      "metadata": {
        "id": "ehwdNhLaButB"
      },
      "execution_count": null,
      "outputs": []
    },
    {
      "cell_type": "code",
      "source": [
        "cv2_imshow(img_gray)"
      ],
      "metadata": {
        "id": "HDzsvWFECOne"
      },
      "execution_count": null,
      "outputs": []
    },
    {
      "cell_type": "code",
      "source": [
        "plt.imshow(img_gray)\n",
        "plt.show()"
      ],
      "metadata": {
        "id": "k_UsNNY0CSNx"
      },
      "execution_count": null,
      "outputs": []
    },
    {
      "cell_type": "code",
      "source": [
        "plt.imshow(img_gray, cmap=\"magma\")\n",
        "plt.show()"
      ],
      "metadata": {
        "id": "OrMtwjk0Banv"
      },
      "execution_count": null,
      "outputs": []
    },
    {
      "cell_type": "markdown",
      "source": [
        "#이미지 쓰기\n",
        "`cv2.imwrite()`\n"
      ],
      "metadata": {
        "id": "HVND_xHWBuA0"
      }
    },
    {
      "cell_type": "code",
      "source": [
        "random_image = np.random.randint(0, 256, size=(200,200,3))\n",
        "random_image"
      ],
      "metadata": {
        "id": "HfU81olhB0TY"
      },
      "execution_count": null,
      "outputs": []
    },
    {
      "cell_type": "code",
      "source": [
        "cv2.imwrite('./random_image.png', random_image)"
      ],
      "metadata": {
        "id": "J8bgoGgFBrr1"
      },
      "execution_count": null,
      "outputs": []
    },
    {
      "cell_type": "code",
      "source": [
        "no_image = cv2.imread('./content/no_image.png')"
      ],
      "metadata": {
        "id": "41yvP_WqCDvC"
      },
      "execution_count": null,
      "outputs": []
    },
    {
      "cell_type": "code",
      "source": [
        "no_image"
      ],
      "metadata": {
        "id": "zy5ci470CYc_"
      },
      "execution_count": null,
      "outputs": []
    },
    {
      "cell_type": "code",
      "source": [
        "print(type(no_image))"
      ],
      "metadata": {
        "id": "eo3ZJnrNCZlq"
      },
      "execution_count": null,
      "outputs": []
    },
    {
      "cell_type": "code",
      "source": [
        "my_img = cv2.imread('/content/random_image.png')"
      ],
      "metadata": {
        "id": "FtaZhjF-Cc1y"
      },
      "execution_count": null,
      "outputs": []
    },
    {
      "cell_type": "code",
      "source": [
        "print(type(my_img))\n",
        "print(my_img.shape)"
      ],
      "metadata": {
        "id": "8sLid9OdCj5F"
      },
      "execution_count": null,
      "outputs": []
    },
    {
      "cell_type": "code",
      "source": [
        "cv2_imshow(my_img)"
      ],
      "metadata": {
        "id": "Za18PDeICoPU"
      },
      "execution_count": null,
      "outputs": []
    },
    {
      "cell_type": "markdown",
      "source": [
        "# 도형 그리기\n",
        "\n",
        "- 다양한 도형을 그릴 수 있음\n",
        "- 도형을 그리는 좌표가 해당 범위를 넘어가면 이미지에 표현되지 않음\n",
        "\n",
        "- 얼굴 검출 알고리즘: 영상 위에 검출한 얼굴 영역을 사각형이나 원으로 표시\n",
        "\n",
        "<img src=\"https://paperswithcode.com/media/thumbnails/task/task-0000000351-f7066399.jpg\" width=\"400\">\n",
        "\n",
        "- 차선 검출 알고리즘: 차선을 정확하게 검출했는지 확인하기 위해 도로 영상 위에 선으로 표시\n",
        "\n",
        "<img src=\"https://user-images.githubusercontent.com/25371934/33930574-61018b38-dfbb-11e7-89bb-66bea1bbb021.gif\" width=\"400\">"
      ],
      "metadata": {
        "id": "dXSvJlrMC4fQ"
      }
    },
    {
      "cell_type": "code",
      "source": [
        "img = np.zeros((512, 512, 3), np.uint8)"
      ],
      "metadata": {
        "id": "oBm0CZnkCroq"
      },
      "execution_count": null,
      "outputs": []
    },
    {
      "cell_type": "code",
      "source": [
        "plt.imshow(img)\n",
        "plt.show()"
      ],
      "metadata": {
        "id": "TQlEGuPADSWo"
      },
      "execution_count": null,
      "outputs": []
    },
    {
      "cell_type": "markdown",
      "source": [
        "## 직선(Line) 그리기\n",
        "\n",
        "`cv.line()`\n",
        "\n",
        "|파라미터|설명|\n",
        "|--------|----|\n",
        "|`img`|그림을 그릴 이미지 파일|\n",
        "|`start`|시작 좌표|\n",
        "|`end`|종료 좌표|\n",
        "|`color`|BGR형태의 Color (e.g., (255, 0, 0)→Blue)|\n",
        "|`thickness` (int)|선의 두께 (pixel)|"
      ],
      "metadata": {
        "id": "zMpeRwuHDYI6"
      }
    },
    {
      "cell_type": "code",
      "source": [
        "img = cv2.line(img, (0, 0), (511, 511), (255,0,0), 5)"
      ],
      "metadata": {
        "id": "UDoEds3zDVdB"
      },
      "execution_count": null,
      "outputs": []
    },
    {
      "cell_type": "code",
      "source": [
        "plt.imshow(img)\n",
        "plt.show()"
      ],
      "metadata": {
        "id": "Ru0Fu_LkDsJK"
      },
      "execution_count": null,
      "outputs": []
    },
    {
      "cell_type": "markdown",
      "source": [
        "## 사각형(Rectangle) 그리기\n",
        "\n",
        "`cv2.rectangle()`\n",
        "\n",
        "|파라미터|설명|\n",
        "|--------|----|\n",
        "|`img`|그림을 그릴 이미지|\n",
        "|`start`|시작 좌표|\n",
        "|`end`|종료 좌표|\n",
        "|`color`|BGR형태의 Color (e.g., (255, 0, 0)→Blue)|\n",
        "|`thickness` (int)|선의 두께 (pixel)|"
      ],
      "metadata": {
        "id": "kSG5LIVKD0n9"
      }
    },
    {
      "cell_type": "code",
      "source": [
        "img = cv2.rectangle(img, (400, 0), (510, 128), (0, 255, 0), 3)"
      ],
      "metadata": {
        "id": "ecMp0BRZDuig"
      },
      "execution_count": null,
      "outputs": []
    },
    {
      "cell_type": "code",
      "source": [
        "plt.imshow(img)\n",
        "plt.show()"
      ],
      "metadata": {
        "id": "tWEQd8B5IJW9"
      },
      "execution_count": null,
      "outputs": []
    },
    {
      "cell_type": "markdown",
      "source": [
        "## 원(Circle) 그리기\n",
        "\n",
        "`cv2.circle()`\n",
        "\n",
        "|파라미터|설명|\n",
        "|--------|----|\t\n",
        "|`img`|그림을 그릴 이미지|\n",
        "|`center`|원의 중심 좌표(x, y)|\n",
        "|`radian`|반지름|\n",
        "|`color`|BGR형태의 Color|\n",
        "|`thickness`|선 두께, -1이면 원 안쪽을 채움|\n",
        "|`lineType`|선의 형태, `cv2.line()` 함수의 인수와 동일|\n",
        "|`shift`|좌표에 대한 비트 시프트 연산|"
      ],
      "metadata": {
        "id": "_IVW6MloIS9Z"
      }
    },
    {
      "cell_type": "code",
      "source": [
        "img = cv2.circle(img, (450, 50), 50, (0, 0, 255), -1)"
      ],
      "metadata": {
        "id": "KSAoqB-SISPO"
      },
      "execution_count": null,
      "outputs": []
    },
    {
      "cell_type": "code",
      "source": [
        "plt.imshow(img)\n",
        "plt.show()"
      ],
      "metadata": {
        "id": "fPNtvOh6IOQW"
      },
      "execution_count": null,
      "outputs": []
    },
    {
      "cell_type": "code",
      "source": [
        "img = cv2.circle(img, (50, 450), 50, (0, 255, 255), 2)"
      ],
      "metadata": {
        "id": "X31b6V3LSHd0"
      },
      "execution_count": null,
      "outputs": []
    },
    {
      "cell_type": "code",
      "source": [
        "plt.imshow(img)\n",
        "plt.show()"
      ],
      "metadata": {
        "id": "YYhAzgtNSbyE"
      },
      "execution_count": null,
      "outputs": []
    },
    {
      "cell_type": "markdown",
      "source": [
        "# 텍스트 출력\n"
      ],
      "metadata": {
        "id": "ILedW2qJTp_0"
      }
    },
    {
      "cell_type": "markdown",
      "source": [
        "    cv2.FONT_HERSHEY_SIMPEX :보통 크기의 산 세리프\n",
        "    cv2.FONT_HERSHEY_PLAIN : 작은 크기의 산 세리프 글꼴\n",
        "    cv2.FONT_HERSHEY_SCRIPT_SIMPLEX : 필기체 스타일 글꼴\n",
        "    cv2.FONT_HERSHEY_TRIPLEX : 보통 크기의 산 세리프 글꼴\n",
        "    cv2.FONT_ITALIC : 기울임(이탤릭체)"
      ],
      "metadata": {
        "id": "WxAc7ci4UVHz"
      }
    },
    {
      "cell_type": "code",
      "source": [
        "import numpy as np\n",
        "import cv2\n",
        "\n",
        "img = np.zeros((480, 640, 3), dtype=np.uint8)\n",
        "\n",
        "COLOR = (255, 255, 255) # 흰색\n",
        "THICKNESS = 1 # 두께\n",
        "SCALE = 1 # 크기\n",
        "\n",
        "cv2.putText(img, \"GM Simplex\", (20, 50), cv2.FONT_HERSHEY_SIMPLEX, SCALE, THICKNESS)\n",
        "# 그릴 위치, 텍스트 내용, 시작 위치, 폰트 종류, 크기, 색깔, 두께\n",
        "\n",
        "cv2.imshow('img', img)\n",
        "cv2.waitKey(0)\n",
        "cv2.destroyAllWindows()"
      ],
      "metadata": {
        "id": "V5L6MgaRUUna"
      },
      "execution_count": null,
      "outputs": []
    },
    {
      "cell_type": "markdown",
      "source": [
        "# 한글\n"
      ],
      "metadata": {
        "id": "CMWRJoMEWOk-"
      }
    },
    {
      "cell_type": "code",
      "source": [
        "import numpy as np\n",
        "import cv2\n",
        "\n",
        "img = np.zeros((480, 640, 3), dtype=np.uint8)\n",
        "\n",
        "COLOR = (255, 255, 255) # 흰색\n",
        "THICKNESS = 1 # 두께\n",
        "SCALE = 1 # 크기\n",
        "\n",
        "cv2.putText(img, \"강민\", (20, 50), cv2.FONT_HERSHEY_SIMPLEX, SCALE, COLOR, THICKNESS)\n",
        "# 그릴 위치, 텍스트 내용, 시작 위치, 폰트 종류, 크기, 색깔, 두께\n",
        "\n",
        "cv2.imshow('img', img)\n",
        "cv2.waitKey(0)\n",
        "cv2.destroyAllWindows()"
      ],
      "metadata": {
        "id": "AajqTc_hWRGN"
      },
      "execution_count": null,
      "outputs": []
    },
    {
      "cell_type": "markdown",
      "source": [
        "# 한글 우회 방법"
      ],
      "metadata": {
        "id": "_A3EuJeNXPeV"
      }
    },
    {
      "cell_type": "code",
      "source": [
        "import numpy as np\n",
        "import cv2\n",
        "from PIL import ImageFont, ImageDraw, Image\n",
        "\n",
        "def myPutText(src, text, pos, font_size, font_color):\n",
        "    img_pil = Image.fromarray(src)\n",
        "    draw = ImageDraw.Draw(img_pil)\n",
        "    font = ImageFont.truetype('fonts/gulim.ttc', font_size)\n",
        "    draw.text(pos, text, font=font, fill=font_color)\n",
        "    return np.array(img_pil)\n",
        "\n",
        "img = np.zeros((480, 640, 3), dtype=np.uint8)\n",
        "\n",
        "COLOR = (255, 255, 255) # 흰색\n",
        "THICKNESS = 1 # 두께\n",
        "SCALE = 1 # 크기\n",
        "\n",
        "# cv2.putText(img, \"강민\", (20, 50), cv2.FONT_HERSHEY_SIMPLEX, SCALE, COLOR, THICKNESS)\n",
        "# 그릴 위치, 텍스트 내용, 시작 위치, 폰트 종류, 크기, 색깔, 두께\n",
        "\n",
        "img = myPutText(img, \"나도코딩\", (20, 50), FONT_SIZE, COLOR)\n",
        "\n",
        "cv2.imshow('img', img)\n",
        "cv2.waitKey(0)\n",
        "cv2.destroyAllWindows()"
      ],
      "metadata": {
        "id": "sWn8SEorXOnz"
      },
      "execution_count": null,
      "outputs": []
    },
    {
      "cell_type": "markdown",
      "source": [
        "# 파일 저장"
      ],
      "metadata": {
        "id": "99OZcXH6c-Rr"
      }
    },
    {
      "cell_type": "markdown",
      "source": [
        "## 이미지 저장"
      ],
      "metadata": {
        "id": "bG7O-MlPdyEp"
      }
    },
    {
      "cell_type": "code",
      "source": [
        "import cv2\n",
        "img = cv2.imread('img.jpg', cv2.IMREAD_GRAYSCALE) # 흑백으로 저장\n",
        "cv2.imshow('img', img)\n",
        "cv2.waitKey(0)\n",
        "cv2.destroyAllWindows()\n",
        "\n",
        "result = cv2.imwrite('img_save.jpg', img)\n",
        "print(result)"
      ],
      "metadata": {
        "id": "3Ll2HlDtZcvM"
      },
      "execution_count": null,
      "outputs": []
    },
    {
      "cell_type": "markdown",
      "source": [
        "## 저장 포맷 (jpg, png)"
      ],
      "metadata": {
        "id": "1jcik1H5e8MX"
      }
    },
    {
      "cell_type": "code",
      "source": [
        "import cv2\n",
        "img = cv2.imread('img.jpg', cv2.IMREAD_GRAYSCALE) # 흑백으로 저장\n",
        "result = cv2.imwrite('img_save.png', img) # png 형태로 저장"
      ],
      "metadata": {
        "id": "LQa6vhj1evbG"
      },
      "execution_count": null,
      "outputs": []
    },
    {
      "cell_type": "markdown",
      "source": [
        "## 동영상 저장"
      ],
      "metadata": {
        "id": "ins--g4ee_Yo"
      }
    },
    {
      "cell_type": "code",
      "source": [
        "import cv2\n",
        "cap = cv2.VideoCapture('video.mp4')\n",
        "\n",
        "# 코텍 정의\n",
        "fourcc = cv2.VideoWriter_fourcc('D','I', 'V', 'X')\n",
        "\n",
        "# 프레임 크기, FPS\n",
        "width = round(cap.get(cv2.CAP_PROP_FRAME_WIDTH))\n",
        "height = round(cap.get(cv2.CAP_PROP_FRAME_HEIGHT))\n",
        "fps = cap.get(cv2.CAP_PROP_FPS) * 1.25 # 영상 재생 속도가 1,25배\n",
        "\n",
        "out = cv2.VideoWriter('output.avi', fourcc, fps, (width, height))\n",
        "# 저장 파일명, 코텍, FPS. 크기 ( width, height )\n",
        "\n",
        "while cap.isOpened():\n",
        "    ret, frame = cap.read()\n",
        "    if not ret:\n",
        "        break\n",
        "\n",
        "    out.write(frame) # 영상 데이터만 저장 (소리 X)\n",
        "    cv2.imshow('video', frame)\n",
        "    if cv2.waitKey(1) == ord('q'):\n",
        "        break\n",
        "out.release() # 자원 해제\n",
        "cap.release() \n",
        "cv2.destroyAllWindows()"
      ],
      "metadata": {
        "id": "f3VzNngwfA-5"
      },
      "execution_count": null,
      "outputs": []
    },
    {
      "cell_type": "code",
      "source": [
        "codec = 'DIVX'\n",
        "print(codec)\n",
        "print(*codec)\n",
        "print([codec])\n",
        "print([*codec])"
      ],
      "metadata": {
        "id": "Dyrn4EyQfYuV"
      },
      "execution_count": null,
      "outputs": []
    },
    {
      "cell_type": "markdown",
      "source": [
        "# 크기 조정"
      ],
      "metadata": {
        "id": "2ssScp58ji68"
      }
    },
    {
      "cell_type": "markdown",
      "source": [
        "고정 크기로 설정"
      ],
      "metadata": {
        "id": "L1AGLidPjpvR"
      }
    },
    {
      "cell_type": "code",
      "source": [
        "import cv2\n",
        "img = cv2.imread('img.jpg')\n",
        "dst = cv2.resize(img, (400,500)) # 가로, 세로 고정\n",
        "\n",
        "cv2.imshow('img', img)\n",
        "cv2.imshow('resize', dst)\n",
        "cv2.waitKey(0)\n",
        "cv2.destroyAllWindows()"
      ],
      "metadata": {
        "id": "5ffZce2qjkva"
      },
      "execution_count": null,
      "outputs": []
    },
    {
      "cell_type": "markdown",
      "source": [
        "비율로 설정"
      ],
      "metadata": {
        "id": "QaV-VeuOkEce"
      }
    },
    {
      "cell_type": "code",
      "source": [
        "import cv2\n",
        "img = cv2.imread('img.jpg')\n",
        "dst = cv2.resize(img, None, fx=0.5, fy=0.5) # x, y를 비율로 설정\n",
        "\n",
        "cv2.imshow('img', img)\n",
        "cv2.imshow('resize', dst)\n",
        "cv2.waitKey(0)\n",
        "cv2.destroyAllWindows()"
      ],
      "metadata": {
        "id": "ZDUHym-KkGgt"
      },
      "execution_count": null,
      "outputs": []
    },
    {
      "cell_type": "markdown",
      "source": [
        "## 보간법\n",
        "`cv2.INTER_AREA` : 크기를 줄일 때 사용  \n",
        "`cv2.INTER_CUBIC` : 크기 늘릴 때 사용 (속도 느림, 퀼리티 좋음)  \n",
        "`cv2.INTER.LINEAR` : 크기 늘릴 때 사용 (기본값)"
      ],
      "metadata": {
        "id": "7HNI_DYAkV0Z"
      }
    },
    {
      "cell_type": "markdown",
      "source": [
        "보간법을 적용하여 축소"
      ],
      "metadata": {
        "id": "HxvL9LL4l2MJ"
      }
    },
    {
      "cell_type": "code",
      "source": [
        "import cv2\n",
        "img = cv2.imread('img.jpg')\n",
        "dst = cv2.resize(img, None, fx=0.5, fy=0.5, interpolation=cv2.INTER_AREA) # x, y를 비율로 설정\n",
        "\n",
        "cv2.imshow('img', img)\n",
        "cv2.imshow('resize', dst)\n",
        "cv2.waitKey(0)\n",
        "cv2.destroyAllWindows()"
      ],
      "metadata": {
        "id": "CsEvQ318koxx"
      },
      "execution_count": null,
      "outputs": []
    },
    {
      "cell_type": "markdown",
      "source": [
        "보간법을 적용하여 확대"
      ],
      "metadata": {
        "id": "l17vA7ORmEEL"
      }
    },
    {
      "cell_type": "code",
      "source": [
        "import cv2\n",
        "img = cv2.imread('img.jpg')\n",
        "dst = cv2.resize(img, None, fx=1.5, fy=1.5, interpolation=cv2.INTER_AREA) # x, y를 비율로 설정\n",
        "\n",
        "cv2.imshow('img', img)\n",
        "cv2.imshow('resize', dst)\n",
        "cv2.waitKey(0)\n",
        "cv2.destroyAllWindows()"
      ],
      "metadata": {
        "id": "jR5_FDyYmdLk"
      },
      "execution_count": null,
      "outputs": []
    },
    {
      "cell_type": "markdown",
      "source": [
        "## 동영상 "
      ],
      "metadata": {
        "id": "wWhT9p1Nmffz"
      }
    },
    {
      "cell_type": "markdown",
      "source": [
        "고정 크기로 설정"
      ],
      "metadata": {
        "id": "7Og9GFIgmhY9"
      }
    },
    {
      "cell_type": "code",
      "source": [
        "import cv2\n",
        "cap = cv2.VideoCapture('video.mp4')\n",
        "\n",
        "while cap.isOpened():\n",
        "    ret, frame = cap.read()\n",
        "    if not ret:\n",
        "        break\n",
        "    \n",
        "    frame_resized = cv2.resize(frame, (400, 500))\n",
        "    cv2.imshow('video', frame_resized)\n",
        "    if cv2.waitKey(1) == ord('q'):\n",
        "        break\n",
        "\n",
        "cap.release()\n",
        "cv2.destroyAllWindows()"
      ],
      "metadata": {
        "id": "ol-lkz2kmjsu"
      },
      "execution_count": null,
      "outputs": []
    },
    {
      "cell_type": "markdown",
      "source": [
        "비율로 설정"
      ],
      "metadata": {
        "id": "1BaBy8Ekmkd6"
      }
    },
    {
      "cell_type": "code",
      "source": [
        "import cv2\n",
        "cap = cv2.VideoCapture('video.mp4')\n",
        "\n",
        "while cap.isOpened():\n",
        "    ret, frame = cap.read()\n",
        "    if not ret:\n",
        "        break\n",
        "    \n",
        "    frame_resized = cv2.resize(frame, None, fx=1.5, fy=1.5, interpolation=cv2.INTER_CUBIC)\n",
        "    cv2.imshow('video', frame_resized)\n",
        "    if cv2.waitKey(1) == ord('q'):\n",
        "        break\n",
        "\n",
        "cap.release()\n",
        "cv2.destroyAllWindows()"
      ],
      "metadata": {
        "id": "o61tdCaPnRtt"
      },
      "execution_count": null,
      "outputs": []
    },
    {
      "cell_type": "markdown",
      "source": [
        "# 이미지 자르기 "
      ],
      "metadata": {
        "id": "WjvgV-Q6njQl"
      }
    },
    {
      "cell_type": "markdown",
      "source": [
        "영억을 잘라서 새루운 원도우(창)에 표시"
      ],
      "metadata": {
        "id": "GPjHFXs9nn49"
      }
    },
    {
      "cell_type": "code",
      "source": [
        "import cv2\n",
        "img = cv2.imread('img.jpg')\n",
        " # img.shape\n",
        "\n",
        "crop = img[100:200, 300:400] # 세로 기준 100 : 200 까지, 가로기준 300 : 400 까지 자름\n",
        "\n",
        "cv2.imshow('img', img) # 원본 이미지\n",
        "cv2.imshow('crop', crop) # 잘린 이미지\n",
        "cv2.waitKey(0)\n",
        "cv2.destroyAllWindows()"
      ],
      "metadata": {
        "id": "QDQQI9oLnqxV"
      },
      "execution_count": null,
      "outputs": []
    },
    {
      "cell_type": "markdown",
      "source": [
        "영역을 잘라서 기존 윈도우에 표시"
      ],
      "metadata": {
        "id": "bqxKgWfyokgE"
      }
    },
    {
      "cell_type": "code",
      "source": [
        "import cv2\n",
        "img = cv2.imread('img.jpg')\n",
        " # img.shape\n",
        "\n",
        "crop = img[100:200, 200:400] # 세로 기준 100 : 200 까지, 가로기준 300 : 400 까지 자름\n",
        "img[100:200, 400:600] = crop \n",
        "\n",
        "cv2.imshow('img', img) # 원본 이미지\n",
        "cv2.waitKey(0)\n",
        "cv2.destroyAllWindows()"
      ],
      "metadata": {
        "id": "c4jvjR09n318"
      },
      "execution_count": null,
      "outputs": []
    },
    {
      "cell_type": "markdown",
      "source": [
        "# 이미지 대칭\n"
      ],
      "metadata": {
        "id": "a-Z9ZQ4jo42u"
      }
    },
    {
      "cell_type": "markdown",
      "source": [
        "## 좌우 대칭"
      ],
      "metadata": {
        "id": "m_8n4Tufo_Eo"
      }
    },
    {
      "cell_type": "code",
      "source": [
        "import cv2\n",
        "img = cv2.imread('img.jpg')\n",
        "flip_horizontal = cv2.flip(img, 1) # flipCode > 0 : 좌우 대칭 Horizontal\n",
        "cv2.imshow('img', img)\n",
        "cv2.imshow('flip_horizontal', flip_horizontal)\n",
        "cv2.waitKey(0)\n",
        "cv2.destroyAllWindows()"
      ],
      "metadata": {
        "id": "5S4407VXo8fj"
      },
      "execution_count": null,
      "outputs": []
    },
    {
      "cell_type": "markdown",
      "source": [
        "## 상하 대칭"
      ],
      "metadata": {
        "id": "AoOQRr6Lpik_"
      }
    },
    {
      "cell_type": "code",
      "source": [
        "import cv2\n",
        "img = cv2.imread('img.jpg')\n",
        "flip_vertical = cv2.flip(img, 1) # flipCode > 0 : 상하 대칭 vertical\n",
        "cv2.imshow('img', img)\n",
        "cv2.imshow('flip_vertical', flip_vertical)\n",
        "cv2.waitKey(0)\n",
        "cv2.destroyAllWindows()"
      ],
      "metadata": {
        "id": "3laPcOrZpkfz"
      },
      "execution_count": null,
      "outputs": []
    },
    {
      "cell_type": "markdown",
      "source": [
        "## 상하좌우 대칭"
      ],
      "metadata": {
        "id": "EY9iCsGppuUW"
      }
    },
    {
      "cell_type": "code",
      "source": [
        "import cv2\n",
        "img = cv2.imread('img.jpg')\n",
        "flip_both = cv2.flip(img, 1) # flipCode > 0 : 상하좌우 대칭 both\n",
        "cv2.imshow('img', img)\n",
        "cv2.imshow('flip_both', flip_both)\n",
        "cv2.waitKey(0)\n",
        "cv2.destroyAllWindows()"
      ],
      "metadata": {
        "id": "BkAWK7rKpw0S"
      },
      "execution_count": null,
      "outputs": []
    },
    {
      "cell_type": "markdown",
      "source": [
        "# 이미지 회전 "
      ],
      "metadata": {
        "id": "sRqP0WL2p_ek"
      }
    },
    {
      "cell_type": "markdown",
      "source": [
        "시계 방향 90도 회전"
      ],
      "metadata": {
        "id": "Kyy496PsqCC3"
      }
    },
    {
      "cell_type": "code",
      "source": [
        "import cv2\n",
        "img = cv2.imread('img.jpg')\n",
        "\n",
        "rotate_90 = cv2.rotate(img, cv2.ROTATE_90_CLOCKWISE) # 시계 방향으로 90도 회전\n",
        "\n",
        "cv2.imshow('img', img)\n",
        "cv2.imshow('rotate_90', rotate_90)\n",
        "cv2.waitKey(0)\n",
        "cv2.destroyAllWindows()"
      ],
      "metadata": {
        "id": "fb2MwqQ8qBdo"
      },
      "execution_count": null,
      "outputs": []
    },
    {
      "cell_type": "markdown",
      "source": [
        "180도 회전"
      ],
      "metadata": {
        "id": "twkefzjZqbjp"
      }
    },
    {
      "cell_type": "code",
      "source": [
        "import cv2\n",
        "img = cv2.imread('img.jpg')\n",
        "\n",
        "rotate_180 = cv2.rotate(img, cv2.ROTATE_180) # 180도 회전\n",
        "\n",
        "cv2.imshow('img', img)\n",
        "cv2.imshow('rotate_180', rotate_180)\n",
        "cv2.waitKey(0)\n",
        "cv2.destroyAllWindows()"
      ],
      "metadata": {
        "id": "1BFOeeGxqcaX"
      },
      "execution_count": null,
      "outputs": []
    },
    {
      "cell_type": "markdown",
      "source": [
        "시계 반대 방향 90도 회전 ( 시계 방향 270도 회전 )"
      ],
      "metadata": {
        "id": "jW4P_i0nqlri"
      }
    },
    {
      "cell_type": "code",
      "source": [
        "import cv2\n",
        "img = cv2.imread('img.jpg')\n",
        "\n",
        "rotate_270 = cv2.rotate(img, cv2.ROTATE_90_COUNTERCLOCKWISE) # 시계 반대 방향으로 90도\n",
        "\n",
        "cv2.imshow('img', img)\n",
        "cv2.imshow('rotate_270', rotate_270)\n",
        "cv2.waitKey(0)\n",
        "cv2.destroyAllWindows()"
      ],
      "metadata": {
        "id": "J0jxgdiHqq5T"
      },
      "execution_count": null,
      "outputs": []
    }
  ]
}