{
  "cells": [
    {
      "cell_type": "markdown",
      "metadata": {
        "id": "PImuS_Dwr83h"
      },
      "source": [
        "# OpenCV 한번에 끝내기\n"
      ]
    },
    {
      "cell_type": "markdown",
      "metadata": {
        "id": "S4cQTvDzsMaj"
      },
      "source": [
        "저수준 영상 처리  \n",
        "고수준 영상 처리( 컴퓨터 비전 )\n",
        "\n",
        "### 영상 처리 응용 분야 \n",
        "    의료 분야\n",
        "        컴퓨터 단층촬영( CT ), 자기 공명영상( MRI ) \n",
        "        양전자 단층촬영( PET )  \n",
        "    방송 통신 분야\n",
        "        스포트 방송, 방송 서비스 \n",
        "    공장 자동화 분야 \n",
        "        제품 품질 모니터링 및 불량 제거 \n",
        "    기상 및 지질 탐사 분야\n",
        "        정보를 시각화 \n",
        "        영상 처리 기술로 표현 \n",
        "    애니메이션 및 게임 분야\n",
        "        촬영된 영상과 그래픽 기술이 조합\n",
        "        현실감 향상 \n",
        "    출판 및 사진 분야\n",
        "        영상 생성, 품질 향상 등     \n",
        "        새로운 합성 영상 \n",
        "\n",
        "### 컴퓨터 비전 처리 단계 \n",
        "\n",
        "<li>전치리 단계</li>  \n",
        "주로 영상처리 기술 사용    \n",
        " 다양한 특징 추출 : 에지, 선분, 영역, SIFT 등\n",
        "<li>고수준 처리</li>   \n",
        "특정정보를 사용하여 영상을 해석, 분류, 상황묘사 등 정보 생성   \n",
        "\n",
        "\n",
        "    "
      ]
    },
    {
      "cell_type": "markdown",
      "metadata": {
        "id": "qElF1a6fK8_g"
      },
      "source": [
        "# 화소 ( Pixel ) \n",
        "    디지털 영상을 표현하는 2차원 배열에서 각 원소\n",
        "    해당 위치에서 빛의 세기에 대응하는 값\n",
        "        0은 검은색을 나타내고, 화소값이 커질수록 밝은 색\n",
        "    컬러 영상 \n",
        "        RGB 세 가지 색상에 대한 정보 화소 정보 표현"
      ]
    },
    {
      "cell_type": "markdown",
      "metadata": {
        "id": "JcL4RacqLg4a"
      },
      "source": [
        "# 이미지와 색공간\n",
        "    색 : 빛에서 주파수( 파장 )의 차이에 따라 다르게 느껴지는 색상  \n",
        "    가시광선 : 전자기파 중에서 인간이 인지할 수 있는 약 380mm ~ 780mm 사이의 파장\n",
        "    0 ~ 255 사이의 값으로 밝기를 표현 \n",
        "    color : 3차원 \n",
        "    gray scale : 2차원 \n",
        "        0 ~ 255의 값을 통해 밝기를 표현\n",
        "        0으로 갈수록 어두워지고, 255로 갈수록 밝아짐 \n",
        "\n"
      ]
    },
    {
      "cell_type": "markdown",
      "metadata": {
        "id": "Xu47-6EKOmiB"
      },
      "source": [
        "# 이미지 파일 형식 \n",
        "    BMP\n",
        "        픽셀 데이터를 압축하지 않은 상태로 저장\n",
        "        파일 구조 간단하지만 용량이 매우 큼\n",
        "    JPG( JPEG )\n",
        "        손실 압축 사용\n",
        "        원본 영상으로부터 픽셀값이 미세하기 달라짐\n",
        "        파일 용량 크기가 크게 감소하는 점에서 장점\n",
        "        디지털 카메라\n",
        "    GIF\n",
        "        무손실 압축\n",
        "        움직이는 그림인 Animation GIF 지원\n",
        "        256 이하의 색상을 가진 영상만을 저하고, 화질이 매우 떨어짐\n",
        "    PNG\n",
        "        Portable Network Graphics\n",
        "        무손실 압축 사용\n",
        "        용량은 큰 편이지만 픽셀값이 변경되지 않음 \n",
        "        알파 채널을 지원하여 일부분을 투명하게 설정 가능"
      ]
    },
    {
      "cell_type": "markdown",
      "metadata": {
        "id": "vHw58l6zPUGM"
      },
      "source": [
        "# OpenCV\n",
        "\n",
        "    실시간 컴퓨터 비전을 목적으로 인텔에서 개발\n",
        "    실시간 이미지 프로세싱에 중점을 둔 한 프로그래밍 라이브러리\n",
        "    TensorFIow, PyTorch 및 Caffe의 딥러닝 프레임워크 지원"
      ]
    },
    {
      "cell_type": "markdown",
      "metadata": {
        "id": "RZ5vqbGaPssQ"
      },
      "source": [
        "# 이미지 읽기 / 쓰기\n",
        "    이미지는 배열로 표현 가능 ( Numpy )"
      ]
    },
    {
      "cell_type": "markdown",
      "metadata": {
        "id": "0EyDOOR-PydK"
      },
      "source": [
        "# 이미지 읽기 ( PIL ) \n",
        "    pillow, matplotlib 와 OpenCV 모두 가능\n",
        "    구글 코랩, 주피터 노트북과 같은 환경에서는 pillow, matplotlib이 더 적합\n",
        "    OpenCV는 주로 파이썬 스크립트 환경에서 사용"
      ]
    },
    {
      "cell_type": "code",
      "execution_count": null,
      "metadata": {
        "id": "Q1IwkX0GQdAZ"
      },
      "outputs": [],
      "source": [
        "import cv2\n",
        "import numpy as np\n",
        "import matplotlib.pyplot as plt\n",
        "%matplotlib inline\n",
        "\n",
        "from PIL import Image\n",
        "import requests\n",
        "from io import BytesIO"
      ]
    },
    {
      "cell_type": "markdown",
      "metadata": {
        "id": "Lw5os1ykQdR-"
      },
      "source": [
        " url과 image객체를 활용하여 이미지 읽기 \n",
        "    "
      ]
    },
    {
      "cell_type": "code",
      "execution_count": null,
      "metadata": {
        "id": "4wBEK5m-h2uo"
      },
      "outputs": [],
      "source": [
        "url = 'https://cdn.pixabay.com/photo/2018/10/01/09/21/pets-3715733_960_720.jpg'\n",
        "\n",
        "response = requests.get(url)\n",
        "pic = Image.open(BytesIO(response.content))"
      ]
    },
    {
      "cell_type": "markdown",
      "metadata": {
        "id": "uL4iJ9iaiXuy"
      },
      "source": [
        "# 이미지 출력 ( PIL )"
      ]
    },
    {
      "cell_type": "code",
      "execution_count": null,
      "metadata": {
        "id": "nYqnUrLwiXJ3"
      },
      "outputs": [],
      "source": [
        "pic"
      ]
    },
    {
      "cell_type": "markdown",
      "metadata": {
        "id": "_AkDmeomidC1"
      },
      "source": [
        "# 타입 ( type ) 확인"
      ]
    },
    {
      "cell_type": "code",
      "execution_count": null,
      "metadata": {
        "id": "cWirb0k_ibml"
      },
      "outputs": [],
      "source": [
        "type(pic)"
      ]
    },
    {
      "cell_type": "markdown",
      "metadata": {
        "id": "WE4deVoDijCp"
      },
      "source": [
        "# PIL 이미지를 array형으로 형변환"
      ]
    },
    {
      "cell_type": "code",
      "execution_count": null,
      "metadata": {
        "id": "0EaCJieTihWc"
      },
      "outputs": [],
      "source": [
        "pic_arr = np.asarray(pic) #np.asarray()"
      ]
    },
    {
      "cell_type": "code",
      "execution_count": null,
      "metadata": {
        "id": "7eh1LrRQitSj"
      },
      "outputs": [],
      "source": [
        "type(pic_arr)"
      ]
    },
    {
      "cell_type": "code",
      "execution_count": null,
      "metadata": {
        "id": "zjd_FTGbi4CP"
      },
      "outputs": [],
      "source": [
        "pic_arr.shape # 3 = RGB"
      ]
    },
    {
      "cell_type": "code",
      "execution_count": null,
      "metadata": {
        "id": "rrsN_Mdvi8BF"
      },
      "outputs": [],
      "source": [
        "pic_arr # pic_arr에 들어 있는 정보 "
      ]
    },
    {
      "cell_type": "code",
      "execution_count": null,
      "metadata": {
        "id": "KLQgh1wXjMGR"
      },
      "outputs": [],
      "source": [
        "plt.imshow(pic_arr)\n",
        "plt.show()"
      ]
    },
    {
      "cell_type": "markdown",
      "metadata": {
        "id": "PqMEPEnRjZ-i"
      },
      "source": [
        "# 이미지 출력 ( matplotlib ) \n",
        "RGB에 따라 이미지 확인"
      ]
    },
    {
      "cell_type": "code",
      "execution_count": null,
      "metadata": {
        "id": "hjTXnhw4jU7A"
      },
      "outputs": [],
      "source": [
        "pic_copy = pic_arr.copy()"
      ]
    },
    {
      "cell_type": "code",
      "execution_count": null,
      "metadata": {
        "id": "mV_GYxQDjkCV"
      },
      "outputs": [],
      "source": [
        "plt.imshow(pic_copy)\n",
        "plt.show()"
      ]
    },
    {
      "cell_type": "code",
      "execution_count": null,
      "metadata": {
        "id": "-DY-O9T4j-Uh"
      },
      "outputs": [],
      "source": [
        "pic_copy.shape"
      ]
    },
    {
      "cell_type": "markdown",
      "metadata": {
        "id": "peIQOs13kChK"
      },
      "source": [
        "채널 순서 ( R G B : 0 1 2 )"
      ]
    },
    {
      "cell_type": "code",
      "execution_count": null,
      "metadata": {
        "id": "-4HgQsMMkBrE"
      },
      "outputs": [],
      "source": [
        "print(pic_copy[:, :, 0]) # 레드 채널 \n",
        "print(pic_copy[:, :, 0].shape)"
      ]
    },
    {
      "cell_type": "code",
      "execution_count": null,
      "metadata": {
        "id": "ArjrmxYskTPf"
      },
      "outputs": [],
      "source": [
        "plt.imshow(pic_copy[:, :, 0])\n",
        "plt.show()"
      ]
    },
    {
      "cell_type": "code",
      "execution_count": null,
      "metadata": {
        "id": "P3GbPdI-kfzE"
      },
      "outputs": [],
      "source": [
        "plt.imshow(pic_copy[:, :, 0], cmap='gray')\n",
        "plt.show()"
      ]
    },
    {
      "cell_type": "markdown",
      "metadata": {
        "id": "_MmFKPO-k7ZN"
      },
      "source": [
        "채널 순서 (R G B : 0 1 2 )\n"
      ]
    },
    {
      "cell_type": "code",
      "execution_count": null,
      "metadata": {
        "id": "4QS2Xi0IlBo-"
      },
      "outputs": [],
      "source": [
        "print(pic_copy[:, :, 1])\n",
        "print(pic_copy[:, :, 1].shape)"
      ]
    },
    {
      "cell_type": "code",
      "execution_count": null,
      "metadata": {
        "id": "SNHY7awKlIKD"
      },
      "outputs": [],
      "source": [
        "plt.imshow(pic_copy[:, :, 1], cmap='gray')\n",
        "plt.show()"
      ]
    },
    {
      "cell_type": "markdown",
      "metadata": {
        "id": "SBNAYKVJlInt"
      },
      "source": [
        "채널 순서 ( R G B : 0 1 2 )"
      ]
    },
    {
      "cell_type": "code",
      "execution_count": null,
      "metadata": {
        "id": "V7s2BhZqlebJ"
      },
      "outputs": [],
      "source": [
        "print(pic_copy[:, :, 2])\n",
        "print(pic_copy[:, :, 2].shape)"
      ]
    },
    {
      "cell_type": "code",
      "execution_count": null,
      "metadata": {
        "id": "-9dNo_WllnMP"
      },
      "outputs": [],
      "source": [
        "plt.imshow(pic_copy[:, :, 2], cmap='gray')\n",
        "plt.show()"
      ]
    },
    {
      "cell_type": "markdown",
      "metadata": {
        "id": "0rICaWdBlzWi"
      },
      "source": [
        "R 채널 분포 확인\n"
      ]
    },
    {
      "cell_type": "code",
      "execution_count": null,
      "metadata": {
        "id": "XCNa6yHFl1Vu"
      },
      "outputs": [],
      "source": [
        "pic_red = pic_arr.copy()\n",
        "pic_red[:, :, 1] = 0\n",
        "pic_red[:, :, 2] = 0"
      ]
    },
    {
      "cell_type": "code",
      "execution_count": null,
      "metadata": {
        "id": "DssyemF_mLSk"
      },
      "outputs": [],
      "source": [
        "pic_red"
      ]
    },
    {
      "cell_type": "code",
      "execution_count": null,
      "metadata": {
        "id": "jgtW0f2WmMVb"
      },
      "outputs": [],
      "source": [
        "plt.imshow(pic_red)\n",
        "plt.show()"
      ]
    },
    {
      "cell_type": "code",
      "execution_count": null,
      "metadata": {
        "id": "SSsj9eaQ-47y"
      },
      "outputs": [],
      "source": [
        "pic_green = pic_arr.copy()\n",
        "pic_green[:, :, 0] = 0\n",
        "pic_green[:, :, 2] = 0 "
      ]
    },
    {
      "cell_type": "code",
      "execution_count": null,
      "metadata": {
        "id": "p9swEmdH_IED"
      },
      "outputs": [],
      "source": [
        "pic_green"
      ]
    },
    {
      "cell_type": "code",
      "execution_count": null,
      "metadata": {
        "id": "7NHt0kMm_UK1"
      },
      "outputs": [],
      "source": [
        "plt.imshow(pic_green)\n",
        "plt.show()"
      ]
    },
    {
      "cell_type": "code",
      "execution_count": null,
      "metadata": {
        "id": "BqQ2dTiO_avk"
      },
      "outputs": [],
      "source": [
        "pic_blue = pic_arr.copy()\n",
        "pic_blue[:, :, 0] = 0\n",
        "pic_blue[:, :, 1] = 0"
      ]
    },
    {
      "cell_type": "code",
      "execution_count": null,
      "metadata": {
        "id": "w6nK-rGn_pB2"
      },
      "outputs": [],
      "source": [
        "pic_blue"
      ]
    },
    {
      "cell_type": "code",
      "execution_count": null,
      "metadata": {
        "id": "c1gC38jG_qKU"
      },
      "outputs": [],
      "source": [
        "plt.imshow(pic_blue)\n",
        "plt.show()"
      ]
    },
    {
      "cell_type": "code",
      "execution_count": null,
      "metadata": {
        "id": "fhl5HadF_t5T"
      },
      "outputs": [],
      "source": [
        "pic_arr"
      ]
    },
    {
      "cell_type": "markdown",
      "metadata": {
        "id": "5jfHYbEw_v72"
      },
      "source": [
        "# 이미지 출력\n",
        "    from google.colab.patches import cv2_imshow\n",
        "    cv2.imshow"
      ]
    },
    {
      "cell_type": "code",
      "execution_count": null,
      "metadata": {
        "id": "MaMpWowC_8IS"
      },
      "outputs": [],
      "source": [
        "from google.colab.patches import cv2_imshow\n"
      ]
    },
    {
      "cell_type": "code",
      "execution_count": null,
      "metadata": {
        "id": "q3w-Oc_9AC23"
      },
      "outputs": [],
      "source": [
        "cv2_imshow(pic_arr)"
      ]
    },
    {
      "cell_type": "markdown",
      "metadata": {
        "id": "vB_zdhkRH7M2"
      },
      "source": [
        "# OpenCV의 채널 순서\n",
        "    OpenCV를 통해 영상(이미지)을 다룰 때의 채널 순서는 B G R\n",
        "    matplotlib은 R G B 순서"
      ]
    },
    {
      "cell_type": "markdown",
      "metadata": {
        "id": "WKfMjPaJ74Jz"
      },
      "source": [
        "`cv2.cvtColor()`\n",
        "  \n",
        "  - image arrary, 변경할 색공간을 인자로 넣어줌 \n",
        "  - 변경할 색공간은 여러 가지가 있음\n",
        "    - `cv2.COLOR_BGR2RGB`\n",
        "    - `cv2.COLOR_RGB2GRAY`\n",
        "    - `cv2.COLOR_GRAY2RGB`\n",
        "    - ...\n",
        "    "
      ]
    },
    {
      "cell_type": "code",
      "execution_count": null,
      "metadata": {
        "id": "8w5ij77o75z_"
      },
      "outputs": [],
      "source": [
        "image = cv2.cvtColor(pic_arr, cv2.COLOR_RGB2BGR )\n",
        "cv2_imshow(image)"
      ]
    },
    {
      "cell_type": "markdown",
      "metadata": {
        "id": "9BO9g2KX89v2"
      },
      "source": [
        "image, pic_arr 비교\n",
        "    0 1 2 인덱스 중 0, 2가 바뀐 것을 알 수 있음."
      ]
    },
    {
      "cell_type": "code",
      "execution_count": null,
      "metadata": {
        "id": "8-A3SDb79GI5"
      },
      "outputs": [],
      "source": [
        "print(image[0][0])"
      ]
    },
    {
      "cell_type": "code",
      "execution_count": null,
      "metadata": {
        "id": "xCbRtNPS9tiF"
      },
      "outputs": [],
      "source": [
        "print(pic_arr[0][0])"
      ]
    },
    {
      "cell_type": "code",
      "execution_count": null,
      "metadata": {
        "id": "BO5TP9Uu95jG"
      },
      "outputs": [],
      "source": [
        "temp_arr = pic_arr[:,:,::-1 ]"
      ]
    },
    {
      "cell_type": "code",
      "execution_count": null,
      "metadata": {
        "id": "nKGZ-fnP9_LQ"
      },
      "outputs": [],
      "source": [
        "print(pic_arr[0][0])"
      ]
    },
    {
      "cell_type": "code",
      "execution_count": null,
      "metadata": {
        "id": "Wi45PtpQ-D5e"
      },
      "outputs": [],
      "source": [
        "print(temp_arr[0][0])"
      ]
    },
    {
      "cell_type": "markdown",
      "metadata": {
        "id": "7EHwxJCXUmS3"
      },
      "source": [
        "## 이미지 읽기(OpenCV)\n",
        "`cv2.imread()`\n",
        "\n",
        "- path, 이미지 파일의 flag값을 인자로 넣어줌\n",
        "  - `cv2.IMREAD_COLOR`: 이미지 파일을 Color로 읽어들이고, 투명한 부분은 무시되며, Default 값\n",
        "  - `cv2.IMREAD_GRAYSCALE`: 이미지를 Grayscale로 읽음. 실제 이미지 처리시 중간단계로 많이 사용\n",
        "  - `cv2.IMREAD_UNCHANGED`: 이미지 파일을 alpha channel (투명도)까지 포함하여 읽어 들임\n",
        "\n",
        "- **(주의)** `cv2.imread()`는 잘못된 경로로 읽어도 `NoneType`으로 들어갈 뿐, <u>오류를 발생하지 않음</u>"
      ]
    },
    {
      "cell_type": "markdown",
      "metadata": {
        "id": "ajqbCQiJ_qBm"
      },
      "source": [
        "- Lion.jpg (https://cdn.pixabay.com/photo/2021/07/13/20/00/lion-6464429_960_720.jpg)\n",
        "\n",
        "  <img src=\"https://cdn.pixabay.com/photo/2021/07/13/20/00/lion-6464429_960_720.jpg\" width=\"300\">\n",
        "  \n",
        "  "
      ]
    },
    {
      "cell_type": "code",
      "execution_count": null,
      "metadata": {
        "id": "So0B8b3VAHI4"
      },
      "outputs": [],
      "source": [
        "!wget -O lion.jpg https://cdn.pixabay.com/photo/2021/07/13/20/00/lion-6464429_960_720.jpg"
      ]
    },
    {
      "cell_type": "markdown",
      "metadata": {
        "id": "QFEoqZAxADdS"
      },
      "source": [
        "### 이미지가 안불러와짐"
      ]
    },
    {
      "cell_type": "code",
      "execution_count": null,
      "metadata": {
        "id": "7qQUWJXG_Kbg"
      },
      "outputs": [],
      "source": [
        "image = cv2.imread('/content/lion.jpg', cv2.IMREAD_UNCHANGED)"
      ]
    },
    {
      "cell_type": "code",
      "execution_count": null,
      "metadata": {
        "id": "h0uuyCYaATIF"
      },
      "outputs": [],
      "source": [
        "print(type(image))"
      ]
    },
    {
      "cell_type": "code",
      "execution_count": null,
      "metadata": {
        "id": "TgX2mLX5AXEb"
      },
      "outputs": [],
      "source": [
        "print(image)"
      ]
    },
    {
      "cell_type": "code",
      "execution_count": null,
      "metadata": {
        "id": "lKjVKbU1AcVG"
      },
      "outputs": [],
      "source": [
        "from google.colab.patches import cv2_imshow"
      ]
    },
    {
      "cell_type": "code",
      "execution_count": null,
      "metadata": {
        "id": "7NKQr1mLAr8q"
      },
      "outputs": [],
      "source": [
        "cv2_imshow(image)"
      ]
    },
    {
      "cell_type": "code",
      "execution_count": null,
      "metadata": {
        "id": "NCD0N1ZvA4MF"
      },
      "outputs": [],
      "source": [
        "plt.imshow(image)\n",
        "plt.show()"
      ]
    },
    {
      "cell_type": "code",
      "execution_count": null,
      "metadata": {
        "id": "liAbWMLFBPsh"
      },
      "outputs": [],
      "source": [
        "img_gray = cv2.imread('/content/lion.jpg', cv2.IMREAD_GRAYSCALE)"
      ]
    },
    {
      "cell_type": "code",
      "execution_count": null,
      "metadata": {
        "id": "ehwdNhLaButB"
      },
      "outputs": [],
      "source": [
        "print(img_gray.shape)"
      ]
    },
    {
      "cell_type": "code",
      "execution_count": null,
      "metadata": {
        "id": "HDzsvWFECOne"
      },
      "outputs": [],
      "source": [
        "cv2_imshow(img_gray)"
      ]
    },
    {
      "cell_type": "code",
      "execution_count": null,
      "metadata": {
        "id": "k_UsNNY0CSNx"
      },
      "outputs": [],
      "source": [
        "plt.imshow(img_gray)\n",
        "plt.show()"
      ]
    },
    {
      "cell_type": "code",
      "execution_count": null,
      "metadata": {
        "id": "OrMtwjk0Banv"
      },
      "outputs": [],
      "source": [
        "plt.imshow(img_gray, cmap=\"magma\")\n",
        "plt.show()"
      ]
    },
    {
      "cell_type": "markdown",
      "metadata": {
        "id": "HVND_xHWBuA0"
      },
      "source": [
        "#이미지 쓰기\n",
        "`cv2.imwrite()`\n"
      ]
    },
    {
      "cell_type": "code",
      "execution_count": null,
      "metadata": {
        "id": "HfU81olhB0TY"
      },
      "outputs": [],
      "source": [
        "random_image = np.random.randint(0, 256, size=(200,200,3))\n",
        "random_image"
      ]
    },
    {
      "cell_type": "code",
      "execution_count": null,
      "metadata": {
        "id": "J8bgoGgFBrr1"
      },
      "outputs": [],
      "source": [
        "cv2.imwrite('./random_image.png', random_image)"
      ]
    },
    {
      "cell_type": "code",
      "execution_count": null,
      "metadata": {
        "id": "41yvP_WqCDvC"
      },
      "outputs": [],
      "source": [
        "no_image = cv2.imread('./content/no_image.png')"
      ]
    },
    {
      "cell_type": "code",
      "execution_count": null,
      "metadata": {
        "id": "zy5ci470CYc_"
      },
      "outputs": [],
      "source": [
        "no_image"
      ]
    },
    {
      "cell_type": "code",
      "execution_count": null,
      "metadata": {
        "id": "eo3ZJnrNCZlq"
      },
      "outputs": [],
      "source": [
        "print(type(no_image))"
      ]
    },
    {
      "cell_type": "code",
      "execution_count": null,
      "metadata": {
        "id": "FtaZhjF-Cc1y"
      },
      "outputs": [],
      "source": [
        "my_img = cv2.imread('/content/random_image.png')"
      ]
    },
    {
      "cell_type": "code",
      "execution_count": null,
      "metadata": {
        "id": "8sLid9OdCj5F"
      },
      "outputs": [],
      "source": [
        "print(type(my_img))\n",
        "print(my_img.shape)"
      ]
    },
    {
      "cell_type": "code",
      "execution_count": null,
      "metadata": {
        "id": "Za18PDeICoPU"
      },
      "outputs": [],
      "source": [
        "cv2_imshow(my_img)"
      ]
    },
    {
      "cell_type": "markdown",
      "metadata": {
        "id": "dXSvJlrMC4fQ"
      },
      "source": [
        "# 도형 그리기\n",
        "\n",
        "- 다양한 도형을 그릴 수 있음\n",
        "- 도형을 그리는 좌표가 해당 범위를 넘어가면 이미지에 표현되지 않음\n",
        "\n",
        "- 얼굴 검출 알고리즘: 영상 위에 검출한 얼굴 영역을 사각형이나 원으로 표시\n",
        "\n",
        "<img src=\"https://paperswithcode.com/media/thumbnails/task/task-0000000351-f7066399.jpg\" width=\"400\">\n",
        "\n",
        "- 차선 검출 알고리즘: 차선을 정확하게 검출했는지 확인하기 위해 도로 영상 위에 선으로 표시\n",
        "\n",
        "<img src=\"https://user-images.githubusercontent.com/25371934/33930574-61018b38-dfbb-11e7-89bb-66bea1bbb021.gif\" width=\"400\">"
      ]
    },
    {
      "cell_type": "code",
      "execution_count": null,
      "metadata": {
        "id": "oBm0CZnkCroq"
      },
      "outputs": [],
      "source": [
        "img = np.zeros((512, 512, 3), np.uint8)"
      ]
    },
    {
      "cell_type": "code",
      "execution_count": null,
      "metadata": {
        "id": "TQlEGuPADSWo"
      },
      "outputs": [],
      "source": [
        "plt.imshow(img)\n",
        "plt.show()"
      ]
    },
    {
      "cell_type": "markdown",
      "metadata": {
        "id": "zMpeRwuHDYI6"
      },
      "source": [
        "## 직선(Line) 그리기\n",
        "\n",
        "`cv.line()`\n",
        "\n",
        "|파라미터|설명|\n",
        "|--------|----|\n",
        "|`img`|그림을 그릴 이미지 파일|\n",
        "|`start`|시작 좌표|\n",
        "|`end`|종료 좌표|\n",
        "|`color`|BGR형태의 Color (e.g., (255, 0, 0)→Blue)|\n",
        "|`thickness` (int)|선의 두께 (pixel)|"
      ]
    },
    {
      "cell_type": "code",
      "execution_count": null,
      "metadata": {
        "id": "UDoEds3zDVdB"
      },
      "outputs": [],
      "source": [
        "img = cv2.line(img, (0, 0), (511, 511), (255,0,0), 5)"
      ]
    },
    {
      "cell_type": "code",
      "execution_count": null,
      "metadata": {
        "id": "Ru0Fu_LkDsJK"
      },
      "outputs": [],
      "source": [
        "plt.imshow(img)\n",
        "plt.show()"
      ]
    },
    {
      "cell_type": "markdown",
      "metadata": {
        "id": "kSG5LIVKD0n9"
      },
      "source": [
        "## 사각형(Rectangle) 그리기\n",
        "\n",
        "`cv2.rectangle()`\n",
        "\n",
        "|파라미터|설명|\n",
        "|--------|----|\n",
        "|`img`|그림을 그릴 이미지|\n",
        "|`start`|시작 좌표|\n",
        "|`end`|종료 좌표|\n",
        "|`color`|BGR형태의 Color (e.g., (255, 0, 0)→Blue)|\n",
        "|`thickness` (int)|선의 두께 (pixel)|"
      ]
    },
    {
      "cell_type": "code",
      "execution_count": null,
      "metadata": {
        "id": "ecMp0BRZDuig"
      },
      "outputs": [],
      "source": [
        "img = cv2.rectangle(img, (400, 0), (510, 128), (0, 255, 0), 3)"
      ]
    },
    {
      "cell_type": "code",
      "execution_count": null,
      "metadata": {
        "id": "tWEQd8B5IJW9"
      },
      "outputs": [],
      "source": [
        "plt.imshow(img)\n",
        "plt.show()"
      ]
    },
    {
      "cell_type": "markdown",
      "metadata": {
        "id": "_IVW6MloIS9Z"
      },
      "source": [
        "## 원(Circle) 그리기\n",
        "\n",
        "`cv2.circle()`\n",
        "\n",
        "|파라미터|설명|\n",
        "|--------|----|\t\n",
        "|`img`|그림을 그릴 이미지|\n",
        "|`center`|원의 중심 좌표(x, y)|\n",
        "|`radian`|반지름|\n",
        "|`color`|BGR형태의 Color|\n",
        "|`thickness`|선 두께, -1이면 원 안쪽을 채움|\n",
        "|`lineType`|선의 형태, `cv2.line()` 함수의 인수와 동일|\n",
        "|`shift`|좌표에 대한 비트 시프트 연산|"
      ]
    },
    {
      "cell_type": "code",
      "execution_count": null,
      "metadata": {
        "id": "KSAoqB-SISPO"
      },
      "outputs": [],
      "source": [
        "img = cv2.circle(img, (450, 50), 50, (0, 0, 255), -1)"
      ]
    },
    {
      "cell_type": "code",
      "execution_count": null,
      "metadata": {
        "id": "fPNtvOh6IOQW"
      },
      "outputs": [],
      "source": [
        "plt.imshow(img)\n",
        "plt.show()"
      ]
    },
    {
      "cell_type": "code",
      "execution_count": null,
      "metadata": {
        "id": "X31b6V3LSHd0"
      },
      "outputs": [],
      "source": [
        "img = cv2.circle(img, (50, 450), 50, (0, 255, 255), 2)"
      ]
    },
    {
      "cell_type": "code",
      "execution_count": null,
      "metadata": {
        "id": "YYhAzgtNSbyE"
      },
      "outputs": [],
      "source": [
        "plt.imshow(img)\n",
        "plt.show()"
      ]
    },
    {
      "cell_type": "markdown",
      "metadata": {
        "id": "ILedW2qJTp_0"
      },
      "source": [
        "# 텍스트 출력\n"
      ]
    },
    {
      "cell_type": "markdown",
      "metadata": {
        "id": "WxAc7ci4UVHz"
      },
      "source": [
        "    cv2.FONT_HERSHEY_SIMPEX :보통 크기의 산 세리프\n",
        "    cv2.FONT_HERSHEY_PLAIN : 작은 크기의 산 세리프 글꼴\n",
        "    cv2.FONT_HERSHEY_SCRIPT_SIMPLEX : 필기체 스타일 글꼴\n",
        "    cv2.FONT_HERSHEY_TRIPLEX : 보통 크기의 산 세리프 글꼴\n",
        "    cv2.FONT_ITALIC : 기울임(이탤릭체)"
      ]
    },
    {
      "cell_type": "code",
      "execution_count": null,
      "metadata": {
        "id": "V5L6MgaRUUna"
      },
      "outputs": [],
      "source": [
        "import numpy as np\n",
        "import cv2\n",
        "\n",
        "img = np.zeros((480, 640, 3), dtype=np.uint8)\n",
        "\n",
        "COLOR = (255, 255, 255) # 흰색\n",
        "THICKNESS = 1 # 두께\n",
        "SCALE = 1 # 크기\n",
        "\n",
        "cv2.putText(img, \"GM Simplex\", (20, 50), cv2.FONT_HERSHEY_SIMPLEX, SCALE, THICKNESS)\n",
        "# 그릴 위치, 텍스트 내용, 시작 위치, 폰트 종류, 크기, 색깔, 두께\n",
        "\n",
        "cv2.imshow('img', img)\n",
        "cv2.waitKey(0)\n",
        "cv2.destroyAllWindows()"
      ]
    },
    {
      "cell_type": "markdown",
      "metadata": {
        "id": "CMWRJoMEWOk-"
      },
      "source": [
        "# 한글\n"
      ]
    },
    {
      "cell_type": "code",
      "execution_count": null,
      "metadata": {
        "id": "AajqTc_hWRGN"
      },
      "outputs": [],
      "source": [
        "import numpy as np\n",
        "import cv2\n",
        "\n",
        "img = np.zeros((480, 640, 3), dtype=np.uint8)\n",
        "\n",
        "COLOR = (255, 255, 255) # 흰색\n",
        "THICKNESS = 1 # 두께\n",
        "SCALE = 1 # 크기\n",
        "\n",
        "cv2.putText(img, \"강민\", (20, 50), cv2.FONT_HERSHEY_SIMPLEX, SCALE, COLOR, THICKNESS)\n",
        "# 그릴 위치, 텍스트 내용, 시작 위치, 폰트 종류, 크기, 색깔, 두께\n",
        "\n",
        "cv2.imshow('img', img)\n",
        "cv2.waitKey(0)\n",
        "cv2.destroyAllWindows()"
      ]
    },
    {
      "cell_type": "markdown",
      "metadata": {
        "id": "_A3EuJeNXPeV"
      },
      "source": [
        "# 한글 우회 방법"
      ]
    },
    {
      "cell_type": "code",
      "execution_count": null,
      "metadata": {
        "id": "sWn8SEorXOnz"
      },
      "outputs": [],
      "source": [
        "import numpy as np\n",
        "import cv2\n",
        "from PIL import ImageFont, ImageDraw, Image\n",
        "\n",
        "def myPutText(src, text, pos, font_size, font_color):\n",
        "    img_pil = Image.fromarray(src)\n",
        "    draw = ImageDraw.Draw(img_pil)\n",
        "    font = ImageFont.truetype('fonts/gulim.ttc', font_size)\n",
        "    draw.text(pos, text, font=font, fill=font_color)\n",
        "    return np.array(img_pil)\n",
        "\n",
        "img = np.zeros((480, 640, 3), dtype=np.uint8)\n",
        "\n",
        "COLOR = (255, 255, 255) # 흰색\n",
        "THICKNESS = 1 # 두께\n",
        "SCALE = 1 # 크기\n",
        "\n",
        "# cv2.putText(img, \"강민\", (20, 50), cv2.FONT_HERSHEY_SIMPLEX, SCALE, COLOR, THICKNESS)\n",
        "# 그릴 위치, 텍스트 내용, 시작 위치, 폰트 종류, 크기, 색깔, 두께\n",
        "\n",
        "img = myPutText(img, \"나도코딩\", (20, 50), FONT_SIZE, COLOR)\n",
        "\n",
        "cv2.imshow('img', img)\n",
        "cv2.waitKey(0)\n",
        "cv2.destroyAllWindows()"
      ]
    },
    {
      "cell_type": "markdown",
      "metadata": {
        "id": "99OZcXH6c-Rr"
      },
      "source": [
        "# 파일 저장"
      ]
    },
    {
      "cell_type": "markdown",
      "metadata": {
        "id": "bG7O-MlPdyEp"
      },
      "source": [
        "## 이미지 저장"
      ]
    },
    {
      "cell_type": "code",
      "execution_count": null,
      "metadata": {
        "id": "3Ll2HlDtZcvM"
      },
      "outputs": [],
      "source": [
        "import cv2\n",
        "img = cv2.imread('img.jpg', cv2.IMREAD_GRAYSCALE) # 흑백으로 저장\n",
        "cv2.imshow('img', img)\n",
        "cv2.waitKey(0)\n",
        "cv2.destroyAllWindows()\n",
        "\n",
        "result = cv2.imwrite('img_save.jpg', img)\n",
        "print(result)"
      ]
    },
    {
      "cell_type": "markdown",
      "metadata": {
        "id": "1jcik1H5e8MX"
      },
      "source": [
        "## 저장 포맷 (jpg, png)"
      ]
    },
    {
      "cell_type": "code",
      "execution_count": null,
      "metadata": {
        "id": "LQa6vhj1evbG"
      },
      "outputs": [],
      "source": [
        "import cv2\n",
        "img = cv2.imread('img.jpg', cv2.IMREAD_GRAYSCALE) # 흑백으로 저장\n",
        "result = cv2.imwrite('img_save.png', img) # png 형태로 저장"
      ]
    },
    {
      "cell_type": "markdown",
      "metadata": {
        "id": "ins--g4ee_Yo"
      },
      "source": [
        "## 동영상 저장"
      ]
    },
    {
      "cell_type": "code",
      "execution_count": null,
      "metadata": {
        "id": "f3VzNngwfA-5"
      },
      "outputs": [],
      "source": [
        "import cv2\n",
        "cap = cv2.VideoCapture('video.mp4')\n",
        "\n",
        "# 코텍 정의\n",
        "fourcc = cv2.VideoWriter_fourcc('D','I', 'V', 'X')\n",
        "\n",
        "# 프레임 크기, FPS\n",
        "width = round(cap.get(cv2.CAP_PROP_FRAME_WIDTH))\n",
        "height = round(cap.get(cv2.CAP_PROP_FRAME_HEIGHT))\n",
        "fps = cap.get(cv2.CAP_PROP_FPS) * 1.25 # 영상 재생 속도가 1,25배\n",
        "\n",
        "out = cv2.VideoWriter('output.avi', fourcc, fps, (width, height))\n",
        "# 저장 파일명, 코텍, FPS. 크기 ( width, height )\n",
        "\n",
        "while cap.isOpened():\n",
        "    ret, frame = cap.read()\n",
        "    if not ret:\n",
        "        break\n",
        "\n",
        "    out.write(frame) # 영상 데이터만 저장 (소리 X)\n",
        "    cv2.imshow('video', frame)\n",
        "    if cv2.waitKey(1) == ord('q'):\n",
        "        break\n",
        "out.release() # 자원 해제\n",
        "cap.release() \n",
        "cv2.destroyAllWindows()"
      ]
    },
    {
      "cell_type": "code",
      "execution_count": null,
      "metadata": {
        "id": "Dyrn4EyQfYuV"
      },
      "outputs": [],
      "source": [
        "codec = 'DIVX'\n",
        "print(codec)\n",
        "print(*codec)\n",
        "print([codec])\n",
        "print([*codec])"
      ]
    },
    {
      "cell_type": "markdown",
      "metadata": {
        "id": "2ssScp58ji68"
      },
      "source": [
        "# 크기 조정"
      ]
    },
    {
      "cell_type": "markdown",
      "metadata": {
        "id": "L1AGLidPjpvR"
      },
      "source": [
        "고정 크기로 설정"
      ]
    },
    {
      "cell_type": "code",
      "execution_count": null,
      "metadata": {
        "id": "5ffZce2qjkva"
      },
      "outputs": [],
      "source": [
        "import cv2\n",
        "img = cv2.imread('img.jpg')\n",
        "dst = cv2.resize(img, (400,500)) # 가로, 세로 고정\n",
        "\n",
        "cv2.imshow('img', img)\n",
        "cv2.imshow('resize', dst)\n",
        "cv2.waitKey(0)\n",
        "cv2.destroyAllWindows()"
      ]
    },
    {
      "cell_type": "markdown",
      "metadata": {
        "id": "QaV-VeuOkEce"
      },
      "source": [
        "비율로 설정"
      ]
    },
    {
      "cell_type": "code",
      "execution_count": null,
      "metadata": {
        "id": "ZDUHym-KkGgt"
      },
      "outputs": [],
      "source": [
        "import cv2\n",
        "img = cv2.imread('img.jpg')\n",
        "dst = cv2.resize(img, None, fx=0.5, fy=0.5) # x, y를 비율로 설정\n",
        "\n",
        "cv2.imshow('img', img)\n",
        "cv2.imshow('resize', dst)\n",
        "cv2.waitKey(0)\n",
        "cv2.destroyAllWindows()"
      ]
    },
    {
      "cell_type": "markdown",
      "metadata": {
        "id": "7HNI_DYAkV0Z"
      },
      "source": [
        "## 보간법\n",
        "`cv2.INTER_AREA` : 크기를 줄일 때 사용  \n",
        "`cv2.INTER_CUBIC` : 크기 늘릴 때 사용 (속도 느림, 퀼리티 좋음)  \n",
        "`cv2.INTER.LINEAR` : 크기 늘릴 때 사용 (기본값)"
      ]
    },
    {
      "cell_type": "markdown",
      "metadata": {
        "id": "HxvL9LL4l2MJ"
      },
      "source": [
        "보간법을 적용하여 축소"
      ]
    },
    {
      "cell_type": "code",
      "execution_count": null,
      "metadata": {
        "id": "CsEvQ318koxx"
      },
      "outputs": [],
      "source": [
        "import cv2\n",
        "img = cv2.imread('img.jpg')\n",
        "dst = cv2.resize(img, None, fx=0.5, fy=0.5, interpolation=cv2.INTER_AREA) # x, y를 비율로 설정\n",
        "\n",
        "cv2.imshow('img', img)\n",
        "cv2.imshow('resize', dst)\n",
        "cv2.waitKey(0)\n",
        "cv2.destroyAllWindows()"
      ]
    },
    {
      "cell_type": "markdown",
      "metadata": {
        "id": "l17vA7ORmEEL"
      },
      "source": [
        "보간법을 적용하여 확대"
      ]
    },
    {
      "cell_type": "code",
      "execution_count": null,
      "metadata": {
        "id": "jR5_FDyYmdLk"
      },
      "outputs": [],
      "source": [
        "import cv2\n",
        "img = cv2.imread('img.jpg')\n",
        "dst = cv2.resize(img, None, fx=1.5, fy=1.5, interpolation=cv2.INTER_AREA) # x, y를 비율로 설정\n",
        "\n",
        "cv2.imshow('img', img)\n",
        "cv2.imshow('resize', dst)\n",
        "cv2.waitKey(0)\n",
        "cv2.destroyAllWindows()"
      ]
    },
    {
      "cell_type": "markdown",
      "metadata": {
        "id": "wWhT9p1Nmffz"
      },
      "source": [
        "## 동영상 "
      ]
    },
    {
      "cell_type": "markdown",
      "metadata": {
        "id": "7Og9GFIgmhY9"
      },
      "source": [
        "고정 크기로 설정"
      ]
    },
    {
      "cell_type": "code",
      "execution_count": null,
      "metadata": {
        "id": "ol-lkz2kmjsu"
      },
      "outputs": [],
      "source": [
        "import cv2\n",
        "cap = cv2.VideoCapture('video.mp4')\n",
        "\n",
        "while cap.isOpened():\n",
        "    ret, frame = cap.read()\n",
        "    if not ret:\n",
        "        break\n",
        "    \n",
        "    frame_resized = cv2.resize(frame, (400, 500))\n",
        "    cv2.imshow('video', frame_resized)\n",
        "    if cv2.waitKey(1) == ord('q'):\n",
        "        break\n",
        "\n",
        "cap.release()\n",
        "cv2.destroyAllWindows()"
      ]
    },
    {
      "cell_type": "markdown",
      "metadata": {
        "id": "1BaBy8Ekmkd6"
      },
      "source": [
        "비율로 설정"
      ]
    },
    {
      "cell_type": "code",
      "execution_count": null,
      "metadata": {
        "id": "o61tdCaPnRtt"
      },
      "outputs": [],
      "source": [
        "import cv2\n",
        "cap = cv2.VideoCapture('video.mp4')\n",
        "\n",
        "while cap.isOpened():\n",
        "    ret, frame = cap.read()\n",
        "    if not ret:\n",
        "        break\n",
        "    \n",
        "    frame_resized = cv2.resize(frame, None, fx=1.5, fy=1.5, interpolation=cv2.INTER_CUBIC)\n",
        "    cv2.imshow('video', frame_resized)\n",
        "    if cv2.waitKey(1) == ord('q'):\n",
        "        break\n",
        "\n",
        "cap.release()\n",
        "cv2.destroyAllWindows()"
      ]
    },
    {
      "cell_type": "markdown",
      "metadata": {
        "id": "WjvgV-Q6njQl"
      },
      "source": [
        "# 이미지 자르기 "
      ]
    },
    {
      "cell_type": "markdown",
      "metadata": {
        "id": "GPjHFXs9nn49"
      },
      "source": [
        "영억을 잘라서 새루운 원도우(창)에 표시"
      ]
    },
    {
      "cell_type": "code",
      "execution_count": null,
      "metadata": {
        "id": "QDQQI9oLnqxV"
      },
      "outputs": [],
      "source": [
        "import cv2\n",
        "img = cv2.imread('img.jpg')\n",
        " # img.shape\n",
        "\n",
        "crop = img[100:200, 300:400] # 세로 기준 100 : 200 까지, 가로기준 300 : 400 까지 자름\n",
        "\n",
        "cv2.imshow('img', img) # 원본 이미지\n",
        "cv2.imshow('crop', crop) # 잘린 이미지\n",
        "cv2.waitKey(0)\n",
        "cv2.destroyAllWindows()"
      ]
    },
    {
      "cell_type": "markdown",
      "metadata": {
        "id": "bqxKgWfyokgE"
      },
      "source": [
        "영역을 잘라서 기존 윈도우에 표시"
      ]
    },
    {
      "cell_type": "code",
      "execution_count": null,
      "metadata": {
        "id": "c4jvjR09n318"
      },
      "outputs": [],
      "source": [
        "import cv2\n",
        "img = cv2.imread('img.jpg')\n",
        " # img.shape\n",
        "\n",
        "crop = img[100:200, 200:400] # 세로 기준 100 : 200 까지, 가로기준 300 : 400 까지 자름\n",
        "img[100:200, 400:600] = crop \n",
        "\n",
        "cv2.imshow('img', img) # 원본 이미지\n",
        "cv2.waitKey(0)\n",
        "cv2.destroyAllWindows()"
      ]
    },
    {
      "cell_type": "markdown",
      "metadata": {
        "id": "a-Z9ZQ4jo42u"
      },
      "source": [
        "# 이미지 대칭\n"
      ]
    },
    {
      "cell_type": "markdown",
      "metadata": {
        "id": "m_8n4Tufo_Eo"
      },
      "source": [
        "## 좌우 대칭"
      ]
    },
    {
      "cell_type": "code",
      "execution_count": null,
      "metadata": {
        "id": "5S4407VXo8fj"
      },
      "outputs": [],
      "source": [
        "import cv2\n",
        "img = cv2.imread('img.jpg')\n",
        "flip_horizontal = cv2.flip(img, 1) # flipCode > 0 : 좌우 대칭 Horizontal\n",
        "cv2.imshow('img', img)\n",
        "cv2.imshow('flip_horizontal', flip_horizontal)\n",
        "cv2.waitKey(0)\n",
        "cv2.destroyAllWindows()"
      ]
    },
    {
      "cell_type": "markdown",
      "metadata": {
        "id": "AoOQRr6Lpik_"
      },
      "source": [
        "## 상하 대칭"
      ]
    },
    {
      "cell_type": "code",
      "execution_count": null,
      "metadata": {
        "id": "3laPcOrZpkfz"
      },
      "outputs": [],
      "source": [
        "import cv2\n",
        "img = cv2.imread('img.jpg')\n",
        "flip_vertical = cv2.flip(img, 1) # flipCode > 0 : 상하 대칭 vertical\n",
        "cv2.imshow('img', img)\n",
        "cv2.imshow('flip_vertical', flip_vertical)\n",
        "cv2.waitKey(0)\n",
        "cv2.destroyAllWindows()"
      ]
    },
    {
      "cell_type": "markdown",
      "metadata": {
        "id": "EY9iCsGppuUW"
      },
      "source": [
        "## 상하좌우 대칭"
      ]
    },
    {
      "cell_type": "code",
      "execution_count": null,
      "metadata": {
        "id": "BkAWK7rKpw0S"
      },
      "outputs": [],
      "source": [
        "import cv2\n",
        "img = cv2.imread('img.jpg')\n",
        "flip_both = cv2.flip(img, 1) # flipCode > 0 : 상하좌우 대칭 both\n",
        "cv2.imshow('img', img)\n",
        "cv2.imshow('flip_both', flip_both)\n",
        "cv2.waitKey(0)\n",
        "cv2.destroyAllWindows()"
      ]
    },
    {
      "cell_type": "markdown",
      "metadata": {
        "id": "sRqP0WL2p_ek"
      },
      "source": [
        "# 이미지 회전 "
      ]
    },
    {
      "cell_type": "markdown",
      "metadata": {
        "id": "Kyy496PsqCC3"
      },
      "source": [
        "시계 방향 90도 회전"
      ]
    },
    {
      "cell_type": "code",
      "execution_count": null,
      "metadata": {
        "id": "fb2MwqQ8qBdo"
      },
      "outputs": [],
      "source": [
        "import cv2\n",
        "img = cv2.imread('img.jpg')\n",
        "\n",
        "rotate_90 = cv2.rotate(img, cv2.ROTATE_90_CLOCKWISE) # 시계 방향으로 90도 회전\n",
        "\n",
        "cv2.imshow('img', img)\n",
        "cv2.imshow('rotate_90', rotate_90)\n",
        "cv2.waitKey(0)\n",
        "cv2.destroyAllWindows()"
      ]
    },
    {
      "cell_type": "markdown",
      "metadata": {
        "id": "twkefzjZqbjp"
      },
      "source": [
        "180도 회전"
      ]
    },
    {
      "cell_type": "code",
      "execution_count": null,
      "metadata": {
        "id": "1BFOeeGxqcaX"
      },
      "outputs": [],
      "source": [
        "import cv2\n",
        "img = cv2.imread('img.jpg')\n",
        "\n",
        "rotate_180 = cv2.rotate(img, cv2.ROTATE_180) # 180도 회전\n",
        "\n",
        "cv2.imshow('img', img)\n",
        "cv2.imshow('rotate_180', rotate_180)\n",
        "cv2.waitKey(0)\n",
        "cv2.destroyAllWindows()"
      ]
    },
    {
      "cell_type": "markdown",
      "metadata": {
        "id": "jW4P_i0nqlri"
      },
      "source": [
        "시계 반대 방향 90도 회전 ( 시계 방향 270도 회전 )"
      ]
    },
    {
      "cell_type": "code",
      "execution_count": null,
      "metadata": {
        "id": "J0jxgdiHqq5T"
      },
      "outputs": [],
      "source": [
        "import cv2\n",
        "img = cv2.imread('img.jpg')\n",
        "\n",
        "rotate_270 = cv2.rotate(img, cv2.ROTATE_90_COUNTERCLOCKWISE) # 시계 반대 방향으로 90도\n",
        "\n",
        "cv2.imshow('img', img)\n",
        "cv2.imshow('rotate_270', rotate_270)\n",
        "cv2.waitKey(0)\n",
        "cv2.destroyAllWindows()"
      ]
    },
    {
      "cell_type": "markdown",
      "metadata": {
        "id": "fWiuTtHjJ_1k"
      },
      "source": [
        "# 이미지 변형 ( 흑백 )"
      ]
    },
    {
      "cell_type": "markdown",
      "metadata": {
        "id": "68SXaBjEKvHO"
      },
      "source": [
        "이미지를 흑백으로 읽음"
      ]
    },
    {
      "cell_type": "code",
      "execution_count": null,
      "metadata": {
        "id": "eV2Jan5zKGYT"
      },
      "outputs": [],
      "source": [
        "import cv2\n",
        "img = cv2.imread('img.jpg', cv2.IMREAD_GRAYSCALE)\n",
        "cv2.imshow('img', img)\n",
        "cv2.waitKey(0)\n",
        "cv2,destroyAllWindows()"
      ]
    },
    {
      "cell_type": "markdown",
      "metadata": {
        "id": "RQvcdsRQLkZi"
      },
      "source": [
        "불러온 이미지를 흑백으로 변경"
      ]
    },
    {
      "cell_type": "code",
      "execution_count": null,
      "metadata": {
        "id": "P6LCOwr4LNfx"
      },
      "outputs": [],
      "source": [
        "import cv2\n",
        "img = cv2.imread('img.jpg')\n",
        "\n",
        "dst = cv2.cvtColor(img, cv2.COLOR_BGR2GRAY)\n",
        "\n",
        "cv2.imshow('img', img)\n",
        "cv2.imshow('gray', dst)\n",
        "cv2.waitKey(0)\n",
        "cv2.destroyAllWindows()"
      ]
    },
    {
      "cell_type": "markdown",
      "metadata": {
        "id": "uPLjIIWiLuaW"
      },
      "source": [
        "# 이미지 변형 ( 흐림 )"
      ]
    },
    {
      "cell_type": "markdown",
      "metadata": {
        "id": "XJvIRFI2LxFU"
      },
      "source": [
        "## 가우시간 블러"
      ]
    },
    {
      "cell_type": "markdown",
      "metadata": {
        "id": "OnkTjXgDMB7d"
      },
      "source": [
        "커널 사이즈 변화에 따른 흐림"
      ]
    },
    {
      "cell_type": "code",
      "execution_count": null,
      "metadata": {
        "id": "wq4T_P2OMIAi"
      },
      "outputs": [],
      "source": [
        "import cv2\n",
        "img = cv2.imread('img.jpg')\n",
        "\n",
        "kernel_3 = cv2.GaussianBlur(img, (3, 3), 0)\n",
        "kernel_5 = cv2.GaussianBlur(img, (5, 5), 0)\n",
        "kernel_7 = cv2.GaussianBlur(img, (7, 7), 0)\n",
        "\n",
        "cv2.imshow('img', img)\n",
        "cv2.imshow('kernel_3', kernel_3)\n",
        "cv2.imshow('kernel_5', kernel_5)\n",
        "cv2.imshow('kernel_7', kernel_7)\n",
        "cv2.waitKey(0)\n",
        "cv2.destroyAllWindows()"
      ]
    },
    {
      "cell_type": "markdown",
      "metadata": {
        "id": "hoHk5_0cMFXg"
      },
      "source": [
        "표준 편차 변화에 따른 흐림"
      ]
    },
    {
      "cell_type": "code",
      "execution_count": null,
      "metadata": {
        "id": "_bdpTsGKLwxt"
      },
      "outputs": [],
      "source": [
        "import cv2\n",
        "img = cv2.imread('img.jpg')\n",
        "\n",
        "sigma_3 = cv2.GaussianBlur(img, (0, 0), 1) # sigmaX - 가우시난 커널 x 방향의 표준 편차 \n",
        "sigma_5 = cv2.GaussianBlur(img, (0, 0), 2) \n",
        "sigma_7 = cv2.GaussianBlur(img, (0, 0), 3) \n",
        "\n",
        "cv2.imshow('img', img)\n",
        "cv2.imshow('sigma_3', sigma_3)\n",
        "cv2.imshow('sigma_5', sigma_5)\n",
        "cv2.imshow('sigma_7', sigma_7)\n",
        "cv2.waitKey(0)\n",
        "cv2.destroyAllWindows()"
      ]
    },
    {
      "cell_type": "markdown",
      "metadata": {
        "id": "Bu5IqyEgNnR2"
      },
      "source": [
        "# 이미지 변형 ( 원근 ) "
      ]
    },
    {
      "cell_type": "markdown",
      "metadata": {
        "id": "69GhRoA4Qarl"
      },
      "source": [
        "## 사다리꼴 이미지 펼치기"
      ]
    },
    {
      "cell_type": "code",
      "execution_count": null,
      "metadata": {
        "id": "Y44GOUPyNpjm"
      },
      "outputs": [],
      "source": [
        "import cv2\n",
        "import numpy as np\n",
        "img = cv2.imread('newspaper.jpg')\n",
        "\n",
        "width, height = 640, 240\n",
        "\n",
        "src = np.array([[511, 352], [1008, 345], [1122, 584], [455, 594]], dtype=np.float32) # Input 4개 지점 \n",
        "dst = np.array([[0, 0], [width, 0], [width, height], [0, height]], dtype=np.float32) # Output 4개 지점\n",
        "# 좌상, 우상, 우하, 좌하 (시계 방향으로 4 지점)\n",
        "\n",
        "matrix = cv2.getPerspectiveTransform(src, dst) # Matrix 얻어옴\n",
        "result = cv2.warpPerspective(img, matrix, (width, height)) # matrix 대로 반환함\n",
        "\n",
        "cv2.imshow('img', img)\n",
        "cv2.imshow('resuresult', result)   \n",
        "cv2.waitKey(0)\n",
        "cv2.destroyAllWindows()"
      ]
    },
    {
      "cell_type": "markdown",
      "metadata": {
        "id": "Tw-gEpsmQdqi"
      },
      "source": [
        "## 회전된 이미지 올바로 세우기 "
      ]
    },
    {
      "cell_type": "code",
      "execution_count": null,
      "metadata": {
        "id": "eP2pctJRQ4c1"
      },
      "outputs": [],
      "source": [
        "import cv2\n",
        "import numpy as np\n",
        "img = cv2.imread('poker.jpg')\n",
        "\n",
        "width, height = 530, 710\n",
        "\n",
        "src = np.array([[702, 143], [1133, 414], [726, 1007], [276, 700]], dtype=np.float32) # Input 4개 지점 \n",
        "dst = np.array([[0, 0], [width, 0], [width, height], [0, height]], dtype=np.float32) # Output 4개 지점\n",
        "# 좌상, 우상, 우하, 좌하 (시계 방향으로 4 지점)\n",
        "\n",
        "matrix = cv2.getPerspectiveTransform(src, dst) # Matrix 얻어옴\n",
        "result = cv2.warpPerspective(img, matrix, (width, height)) # matrix 대로 반환함\n",
        "\n",
        "cv2.imshow('img', img)\n",
        "cv2.imshow('resuresult', result)   \n",
        "cv2.waitKey(0)\n",
        "cv2.destroyAllWindows()"
      ]
    },
    {
      "cell_type": "markdown",
      "metadata": {
        "id": "yyDiGxOZR7DJ"
      },
      "source": [
        "# 미니 프로젝트 : 반자동 문서 스캐너 "
      ]
    },
    {
      "cell_type": "markdown",
      "metadata": {
        "id": "RPInh6cnSD0k"
      },
      "source": [
        "## 마우스 이벤트 등록"
      ]
    },
    {
      "cell_type": "code",
      "execution_count": null,
      "metadata": {
        "id": "k7_ES-zySCBO"
      },
      "outputs": [],
      "source": [
        "from PIL import Image\n",
        "import requests\n",
        "from io import BytesIO\n",
        "\n",
        "url = 'https://cdn.pixabay.com/photo/2015/03/20/15/03/poker-682332_960_720.jpg'\n",
        "\n",
        "response = requests.get(url)\n",
        "pic = Image.open(BytesIO(response.content))\n"
      ]
    },
    {
      "cell_type": "code",
      "execution_count": null,
      "metadata": {
        "id": "GUWKTROWSGJk"
      },
      "outputs": [],
      "source": [
        "import cv2\n",
        "\n",
        "def mouse_handler(event, x, y, flags, param):\n",
        "    if event == cv2.EVENT_LBUTTONDOWN: # 마우스 왼쪽 버튼 누름\n",
        "        print('왼쪽 버튼 Down')\n",
        "        print(x, y)\n",
        "    elif event == cv2.EVENT_LBUTTONUP: # 마우스 왼쪽 버튼 Up\n",
        "        print('왼쪽 버튼 Up')\n",
        "        print(x, y)\n",
        "    elif event == cv2.EVENT_LBUTTONDBLCLK: # 마우스 왼쪽 버튼 더블 클릭\n",
        "        print('왼쪽 버튼 Double Click')\n",
        "    # elif event == cv2.EVENT_MOUSEMOVE: # 마우스 이동\n",
        "    #     print('마우스 이동')\n",
        "    elif event == cv2.EVENT_RBUTTONDOWN: # 마우스 오른쪽 버튼 DOWN\n",
        "        print('오른쪽 버튼 Down')\n",
        "\n",
        "img = cv2.imread('poker.jpg')\n",
        "cv2.namedWindow('img') # img 란 이름의 윈도우를 먼저 만들어두는 것. 여기에 마우스 이벤트를 처리하기 위한 핸들러 적용\n",
        "cv2.setMouseCallback('img', mouse_handler)\n",
        "cv2.imshow('img', img)\n",
        "cv2.waitKey(0)\n",
        "cv2.destroyAllWindows()\n"
      ]
    },
    {
      "cell_type": "markdown",
      "metadata": {
        "id": "2fgb0w12VgYq"
      },
      "source": [
        "### 프로젝트 "
      ]
    },
    {
      "cell_type": "code",
      "execution_count": null,
      "metadata": {
        "id": "3ct7AuS7Viwl"
      },
      "outputs": [],
      "source": [
        "import cv2\n",
        "import numpy as np\n",
        "\n",
        "point_list = []\n",
        "src_img = cv2.imread('poker,jpg')\n",
        "\n",
        "COLOR = (255, 0, 255) # 핑크색\n",
        "THICKNESS = 3 \n",
        "drawing = False # 선을 그릴지 여부 \n",
        "\n",
        "def mouse_handler(event, x, y, flags, param):\n",
        "    global drawing\n",
        "    dst_img = src_img.copy()\n",
        "\n",
        "    if event == cv2.EVENT_LBUTTONDOWN: # 마우스 왼쪽 버튼 누름\n",
        "        drawing = True # 선을 그리기 시작\n",
        "        point_list.append((x, y))\n",
        "    if drawing:\n",
        "        prev_point = None # 직선의 시작점 \n",
        "        for point in point_list: \n",
        "            cv2.circle(dst_img, point, 15, COLOR, cv2.FILLED)\n",
        "            if prev_point:\n",
        "                cv2.line(dst_img. prev_point, point, COLOR, THICKNESS, cv2.LINE_AA)\n",
        "            prev_point = point\n",
        "\n",
        "        next_point = (x, y)\n",
        "        if len(point_list) == 4:\n",
        "            show_result() # 결과 출력\n",
        "            next_point = point_list[0] # 첫번 째 클릭한 지점 \n",
        "        cv2.line(dst_img. prev_point, next_point, COLOR, THICKNESS, cv2.LINE_AA)\n",
        "\n",
        "    cv2.imshow('img', dst_img)\n",
        "\n",
        "def show_result():\n",
        "    width, height = 530, 710\n",
        "    src = np.float32(point_list)\n",
        "    dst = np.array([[0, 0], [width, 0], [width, height], [0, height]], dtype=np.float32) # Output 4개 지점\n",
        "    # 좌상, 우상, 우하, 좌하 (시계 방향으로 4 지점)\n",
        "    matrix = cv2.getPerspectiveTransform(src, dst) # Matrix 얻어옴\n",
        "    result = cv2.warpPerspective(src_img, matrix, (width, height)) # matrix 대로 반환함\n",
        "    cv2.imshow('result', result)\n",
        "\n",
        "cv2.namedWindow('img') # img 란 이름의 윈도우를 먼저 만들어두는 것. 여기에 마우스 이벤트를 처리하기 위한 핸들러 적용\n",
        "cv2.setMouseCallback('img', mouse_handler)\n",
        "cv2.imshow('img', src_img)\n",
        "cv2.waitKey(0)\n",
        "cv2.destroyAllWindows()"
      ]
    },
    {
      "cell_type": "markdown",
      "metadata": {
        "id": "PSSbMFPuSFP8"
      },
      "source": [
        "# 이미지 변형 ( 이진화 )"
      ]
    },
    {
      "cell_type": "code",
      "execution_count": null,
      "metadata": {},
      "outputs": [],
      "source": [
        "import cv2\n",
        "\n",
        "img = cv2.imread('book.jpg', cv2.IMREAD_GRAYSCALE)\n",
        "\n",
        "ret.binary = cv2.threshold(img, 127, 255, cv2.THRESH_BINARY)\n",
        "  \n",
        "cv2.imshow('img', img)\n",
        "cv2.imshow('binary', binary)\n",
        "cv2.waitKey(0)\n",
        "cv2.destroyAllwindows()"
      ]
    },
    {
      "cell_type": "markdown",
      "metadata": {},
      "source": [
        "## Trackbar ( 값 변화에 따른 변형 확인 )\n"
      ]
    },
    {
      "cell_type": "code",
      "execution_count": null,
      "metadata": {},
      "outputs": [],
      "source": [
        "import cv2\n",
        "\n",
        "def empty(pos):\n",
        "    # print(pos)\n",
        "    pass\n",
        "\n",
        "img = cv2.imread('book.jpg', cv2.IMREAD_GRAYSCALE)\n",
        "\n",
        "name = 'Trackbar'\n",
        "cv2.namedWindow(name)\n",
        "\n",
        "cv2.createTrackbar('threshold', name, 127, 255, empty) # bar 이름, 창의 이름, 초기값, 최대값, 이벤트 처리\n",
        "\n",
        "while True:\n",
        "    thresh = cv2.getTrackbarPos('threshold', name) # bar 이름, 창의 이름\n",
        "    ret.binary = cv2.threshold(img, 127, 255, cv2.THRESH_BINARY)\n",
        "  \n",
        "    if not ret:\n",
        "        break;\n",
        "    \n",
        "    cv2.imshow(name, binary)\n",
        "    if cv2.waitKey(1) == ord('q'):\n",
        "        break\n",
        "    \n",
        "cv2.destroyAllWindows()"
      ]
    },
    {
      "cell_type": "code",
      "execution_count": null,
      "metadata": {},
      "outputs": [],
      "source": [
        "import cv2\n",
        "\n",
        "img = cv2.imread('threshold.png', cv2.IMREAD_GRAYSCALE)\n",
        "\n",
        "ret.binary1 = cv2.threshold(img, 0, 255, cv2.THRESH_BINARY) # 진한 회색, 밝은 회색, 흰색\n",
        "ret.binary2 = cv2.threshold(img, 127, 255, cv2.THRESH_BINARY) # 밝은 회색, 흰색\n",
        "ret.binary3 = cv2.threshold(img, 195, 255, cv2.THRESH_BINARY) # 흰색 \n",
        "  \n",
        "  \n",
        "  \n",
        "cv2.imshow('img', img)\n",
        "cv2.imshow('binary1', binary1)\n",
        "cv2.imshow('binary2', binary2)\n",
        "cv2.imshow('binary3', binary3)\n",
        "cv2.waitKey(0)\n",
        "cv2.destroyAllwindows()"
      ]
    },
    {
      "cell_type": "markdown",
      "metadata": {},
      "source": [
        "## Adaptive Threshold\n",
        "이미지를 작은 영역으로 나누어서 임계치 적용"
      ]
    },
    {
      "cell_type": "code",
      "execution_count": null,
      "metadata": {},
      "outputs": [],
      "source": [
        "import cv2\n",
        "\n",
        "def empty(pos):\n",
        "    # print(pos)\n",
        "    pass\n",
        "\n",
        "img = cv2.imread('book.jpg', cv2.IMREAD_GRAYSCALE)\n",
        "\n",
        "name = 'Trackbar'\n",
        "cv2.namedWindow(name)\n",
        "\n",
        "# bar 이름, 창의 이름, 초기값, 최대값, 이벤트 처리\n",
        "cv2.createTrackbar('block_size', name, 25, 100, empty) # 홀수만 가능, 1보다는 큰 값\n",
        "cv2.createTrackbar('c', name, 3, 10, empty) # 일반적으로 양수의 값을 사용\n",
        "\n",
        "while True:\n",
        "    block_size = cv2.getTrackbarPos('block_size', name) # bar 이름, 창의 이름\n",
        "    c = cv2.getTrackbarPos('c', name)\n",
        "    \n",
        "    if block_size <= 1 :\n",
        "        block_size = 3\n",
        "        \n",
        "    if block_size % 2 == 0:\n",
        "        block_size += 1\n",
        "        \n",
        "    binary = cv2.threshold(img, 255, cv2.ADAPTIVE_THRESH_MEAN_C, cv2.THRESH_BINARY, block_size, c)\n",
        "    \n",
        "    cv2.imshow(name, binary)\n",
        "    if cv2.waitKey(1) == ord('q'):\n",
        "        break\n",
        "    \n",
        "cv2.destroyAllWindows()"
      ]
    },
    {
      "cell_type": "markdown",
      "metadata": {},
      "source": [
        "## 오츠 알고리즘\n",
        "Bimodal Image 에 사용하기 적합 ( 최적의 임계치를 자동으로 발견 )"
      ]
    },
    {
      "cell_type": "code",
      "execution_count": null,
      "metadata": {},
      "outputs": [],
      "source": [
        "import cv2\n",
        "\n",
        "img = cv2.imread('book.jpg', cv2.IMREAD_GRAYSCALE)\n",
        "\n",
        "ret, binary = cv2.threshold(img, 127, 255, cv2.THRESH_BINARY)\n",
        "ret, otsu = cv2.threshold(img, -1, 255, cv2.THRESH_BINARY | cv2.THRESH_OTSU)\n",
        "print('otsu threshold', ret) \n",
        "  \n",
        "cv2.imshow('img', img)\n",
        "cv2.imshow('binary', binary)\n",
        "cv2.imshow('otsu', otsu)\n",
        "cv2.waitKey(0)\n",
        "cv2.destroyAllwindows()"
      ]
    },
    {
      "cell_type": "markdown",
      "metadata": {},
      "source": [
        "# 이미지 변환 ( 팽창 )"
      ]
    },
    {
      "cell_type": "markdown",
      "metadata": {},
      "source": [
        "## 이미지를 확정하여 작은 구멍을 채움\n",
        "흰색 영역의 외곽 픽셀 주변에 흰색을 추가"
      ]
    },
    {
      "cell_type": "code",
      "execution_count": null,
      "metadata": {},
      "outputs": [],
      "source": [
        "import cv2\n",
        "import numpy as np\n",
        "\n",
        "kernel = np.ones((3, 3), dtype = np.uint8)\n",
        "# kernel\n",
        "\n",
        "img = cv2.imread('dilate.png', cv2.IMREAD_GRAYSCALE)\n",
        "dilate1 = cv2.dilate(img, kernel, iterations=1) # 반복 횟수  \n",
        "dilate2 = cv2.dilate(img, kernel, iterations=2)\n",
        "dilate3 = cv2.dilate(img, kernel, iterations=3)\n",
        "\n",
        "cv2.imshow('gray', img)\n",
        "cv2.imshow('dilate1', dilate1)\n",
        "cv2.imshow('dilate2', dilate2)\n",
        "cv2.imshow('dilate3', dilate3)\n",
        "cv2.waitKey(0)\n",
        "cv2.destroyAllWindows()"
      ]
    },
    {
      "cell_type": "markdown",
      "metadata": {},
      "source": [
        "# 이미지 변환 ( 침식 )"
      ]
    },
    {
      "cell_type": "markdown",
      "metadata": {},
      "source": [
        "## 이미지를 깍아서 노이즈 제거\n",
        "흰색 영역의 외곽 픽셀을 검은색으로 변경"
      ]
    },
    {
      "cell_type": "code",
      "execution_count": null,
      "metadata": {},
      "outputs": [],
      "source": [
        "import cv2\n",
        "import numpy as np\n",
        "kernel = np.one((3, 3), dtype=np.uint8)\n",
        "\n",
        "img = cv2.imread('erode.png', cv2.IMREAD_GRAYSCALE)\n",
        "erode1 = cv2.erode(img, kernel, iterations=1)\n",
        "erode2 = cv2.erode(img, kernel, iterations=2)\n",
        "erode3 = cv2.erode(img, kernel, iterations=3)\n",
        "\n",
        "cv2.imshow('gray', img)\n",
        "cv2.imshow('erode1', erode1)\n",
        "cv2.imshow('erode2', erode2)\n",
        "cv2.imshow('erode3', erode3)\n",
        "cv2.waitKey(0)\n",
        "cv2.destroyAllWindows()"
      ]
    },
    {
      "cell_type": "markdown",
      "metadata": {},
      "source": [
        "# 이미지 변환 ( 열림 & 닫힘 )"
      ]
    },
    {
      "cell_type": "markdown",
      "metadata": {},
      "source": [
        "## 열림 (Opening) : 침식 후 팽창. 깎아서 노이즈 제거 후 살 찌움"
      ]
    },
    {
      "cell_type": "code",
      "execution_count": null,
      "metadata": {},
      "outputs": [],
      "source": [
        "import cv2\n",
        "import numpy as np\n",
        "\n",
        "kernel = np.ones((3, 3), dtype = np.uint8)\n",
        "\n",
        "img = cv2.imread('erode.png', cv2.IMREAD_GRAYSCALE)\n",
        "\n",
        "erode = cv2.erode(img, kernel, iterations=3)\n",
        "dilate = cv2.dilate(erode, kernel, iterations=3)\n",
        "\n",
        "\n",
        "cv2.imshow('img', img)\n",
        "cv2.imshow('erode', erode)\n",
        "cv2.imshow('dilate', dilate)\n",
        "cv2.waitKey(0)\n",
        "cv2.destroyAllWindows()"
      ]
    },
    {
      "cell_type": "markdown",
      "metadata": {},
      "source": [
        "## 닫힘 ( Closing ) : 팽창 후 침식. 구멍을 메운 후 다시 깎음\n",
        "    erode(dilate(image))"
      ]
    },
    {
      "cell_type": "code",
      "execution_count": null,
      "metadata": {},
      "outputs": [],
      "source": [
        "import cv2\n",
        "import numpy as np\n",
        "\n",
        "kernel = np.ones((3, 3), dtype = np.uint8)\n",
        "\n",
        "img = cv2.imread('dilate.png', cv2.IMREAD_GRAYSCALE)\n",
        "\n",
        "dilate = cv2.dilate(img, kernel, iterations=3)\n",
        "erode = cv2.erode(dilate, kernel, iterations=3)\n",
        "\n",
        "cv2.imshow('img', img)\n",
        "cv2.imshow('dilate', dilate)\n",
        "cv2.imshow('erode', erode)\n",
        "cv2.waitKey(0)\n",
        "cv2.destroyAllWindows()"
      ]
    },
    {
      "cell_type": "markdown",
      "metadata": {},
      "source": [
        "# 이미지 검출 ( 경계선 )"
      ]
    },
    {
      "cell_type": "markdown",
      "metadata": {},
      "source": [
        "## Canny Edge Detection"
      ]
    },
    {
      "cell_type": "code",
      "execution_count": null,
      "metadata": {},
      "outputs": [],
      "source": [
        "import cv2\n",
        "img  = cv2.imread('snowman.png')\n",
        "\n",
        "canny = cv2.Canny(img, 150, 200)\n",
        "# 대상 이미지, minVal ( 하위임계값 ), maxVal ( 상위임계값 )\n",
        "\n",
        "cv2.imshow('img', img)\n",
        "cv2.imshow('Canny', canny)\n",
        "cv2.waitKey(0)\n",
        "cv2.destroyAllWindows()"
      ]
    },
    {
      "cell_type": "code",
      "execution_count": null,
      "metadata": {},
      "outputs": [],
      "source": [
        "import cv2\n",
        "img  = cv2.imread('snowman.png')\n",
        "\n",
        "name = \"Trackbar\"\n",
        "cv2.namedWindow(name)\n",
        "cv2.createTrackbar('threshold1', name, 0, 255, empty) # minVal\n",
        "cv2.createTrackbar('threshold2', name, 0, 255, empty) # maxVal\n",
        "\n",
        "while True:\n",
        "    threshold1 = cv2.getTrackbarPos('threshold1', name)\n",
        "    threshold2 = cv2.getTrackbarPos('threshold2', name)\n",
        "    \n",
        "canny = cv2.Canny(img, 150, 200)\n",
        "# 대상 이미지, minVal ( 하위임계값 ), maxVal ( 상위임계값 )\n",
        "\n",
        "cv2.imshow('img', img)\n",
        "cv2.imshow(name, canny)\n",
        "\n",
        "if cv2.waitKey(1) == ord('q'):\n",
        "    break\n",
        "\n",
        "cv2.waitKey(0)\n",
        "cv2.destroyAllWindows()"
      ]
    },
    {
      "cell_type": "markdown",
      "metadata": {},
      "source": [
        "# 이미지 검출 ( 윤곽선 )"
      ]
    },
    {
      "cell_type": "markdown",
      "metadata": {},
      "source": [
        "## 윤곽선 ( Contour ) : 경계선을 연결한 선"
      ]
    },
    {
      "cell_type": "code",
      "execution_count": null,
      "metadata": {},
      "outputs": [],
      "source": [
        "import cv2\n",
        "img = cv2.imread('card.png')\n",
        "target_img = img.copy() # 사본 이미지\n",
        "\n",
        "gray = cv2.cvtColor(img, cv2.COLOR_BGR2GRAY)\n",
        "ret, otsu = cv2.threshold(gray, -1, 255, cv2.THRESH_BINARY | cv2.THRESH_OTSU)\n",
        "\n",
        "contours, hierarchy = cv2.findContours(otsu, cv2.RETR_LIST, cv2.CHAIN_APPROX_NONE)\n",
        "# 윤곽선 정보, 구조\n",
        "# 이미지, 윤곽선 찾는 모드( mode ), 윤곽선 찾을 때 사용하는 근사치( method ) : CHAIN_APPROX_NONE, CHAIN_APPROX_SIMPLE\n",
        "\n",
        "COLOR = (0, 200, 0) # 녹색\n",
        "cv2.drawContours(target_img, contours, -1, COLOR, 2) # 윤곽선 그리기\n",
        "# 대상 이미지, 윤곽선 정보, 인덱스( -1 이면 전체 ), 색깔, 두께 \n",
        "cv2.imshow('img', img)\n",
        "cv2.imshow('gray', gray)\n",
        "cv2.imshow('otsu', otsu)\n",
        "cv2.imshow('contour', target_img)\n",
        "cv2.waitKey(0)\n",
        "cv2.destroyAllWindows()"
      ]
    },
    {
      "cell_type": "markdown",
      "metadata": {},
      "source": [
        "### 윤곽선 찾기 모드\n",
        "1. cv2.RETR_EXTERNAL : 가장 외곽의 윤곽선만 찾음\n",
        "1. cv2.RETR_LIST : 모든 윤곽선을 찾음 ( 계층 정보 없음)\n",
        "1. cv2.RETR_TREE : 모든 윤곽선 찾음 ( 계층 정보를 트리 구조로 생성 )"
      ]
    },
    {
      "cell_type": "markdown",
      "metadata": {},
      "source": [
        "## 경계 사각형\n",
        "윤곽선의 경계면을 둘러싸는 사각형\n",
        "    boundingRect()"
      ]
    },
    {
      "cell_type": "code",
      "execution_count": null,
      "metadata": {},
      "outputs": [],
      "source": [
        "import cv2\n",
        "img = cv2.imread('card.png')\n",
        "target_img = img.copy() # 사본 이미지\n",
        "\n",
        "gray = cv2.cvtColor(img, cv2.COLOR_BGR2GRAY)\n",
        "ret, otsu = cv2.threshold(gray, -1, 255, cv2.THRESH_BINARY | cv2.THRESH_OTSU)\n",
        "contours, hierarchy = cv2.findContours(otsu, cv2.RETR_LIST, cv2.CHAIN_APPROX_NONE)\n",
        "\n",
        "COLOR = (0, 200, 0) # 녹색\n",
        "\n",
        "for cnt in contours : \n",
        "    x, y, width, height = cv2.boundingRect(cnt)\n",
        "    cv2.rectangle(target_img, (x, y), (x + width, y + height), COLOR, 2) # 사격형 그림 \n",
        "\n",
        "cv2.imshow('img', img)\n",
        "cv2.imshow('contour', target_img)\n",
        "cv2.waitKey(0)\n",
        "cv2.destroyAllWindows()"
      ]
    },
    {
      "cell_type": "markdown",
      "metadata": {},
      "source": [
        "# 면적 \n",
        "    contourArea()"
      ]
    },
    {
      "cell_type": "code",
      "execution_count": null,
      "metadata": {},
      "outputs": [],
      "source": [
        "import cv2\n",
        "img = cv2.imread('card.png')\n",
        "target_img = img.copy() # 사본 이미지\n",
        "\n",
        "gray = cv2.cvtColor(img, cv2.COLOR_BGR2GRAY)\n",
        "ret, otsu = cv2.threshold(gray, -1, 255, cv2.THRESH_BINARY | cv2.THRESH_OTSU)\n",
        "contours, hierarchy = cv2.findContours(otsu, cv2.RETR_LIST, cv2.CHAIN_APPROX_NONE)\n",
        "\n",
        "COLOR = (0, 200, 0) # 녹색\n",
        "\n",
        "for cnt in contours : \n",
        "    if cv2.contourArea(cnt) > 25000:\n",
        "        x, y, width, height = cv2.boundingRect(cnt)\n",
        "        cv2.rectangle(target_img, (x, y), (x + width, y + height), COLOR, 2) # 사격형 그림 \n",
        "\n",
        "    \n",
        "cv2.imshow('img', img)\n",
        "cv2.imshow('contour', target_img)\n",
        "cv2.waitKey(0)\n",
        "cv2.destroyAllWindows()"
      ]
    },
    {
      "cell_type": "markdown",
      "metadata": {},
      "source": [
        "# 미니 프로젝트 : 개별 카드 추출해서 파일 저장"
      ]
    },
    {
      "cell_type": "code",
      "execution_count": null,
      "metadata": {},
      "outputs": [],
      "source": [
        "import cv2\n",
        "img = cv2.imread('card.png')\n",
        "target_img = img.copy() # 사본 이미지\n",
        "\n",
        "gray = cv2.cvtColor(img, cv2.COLOR_BGR2GRAY)\n",
        "ret, otsu = cv2.threshold(gray, -1, 255, cv2.THRESH_BINARY | cv2.THRESH_OTSU)\n",
        "contours, hierarchy = cv2.findContours(otsu, cv2.RETR_LIST, cv2.CHAIN_APPROX_NONE)\n",
        "\n",
        "COLOR = (0, 200, 0) # 녹색\n",
        "\n",
        "idx = 1\n",
        "for cnt in contours : \n",
        "    if cv2.contourArea(cnt) > 25000:\n",
        "        x, y, width, height = cv2.boundingRect(cnt)\n",
        "        cv2.rectangle(target_img, (x, y), (x + width, y + height), COLOR, 2) # 사격형 그림 \n",
        "        \n",
        "        crop = img[y:y+height, x:x+width]\n",
        "        cv2.imshow(f'card_crop_{idx}', crop)\n",
        "        cv2.imwrite(f'card_crop_{idx}.png', crop)\n",
        "        idx += 1\n",
        "    \n",
        "cv2.imshow('img', img)\n",
        "cv2.imshow('contour', target_img)\n",
        "cv2.waitKey(0)\n",
        "cv2.destroyAllWindows()"
      ]
    }
  ],
  "metadata": {
    "colab": {
      "collapsed_sections": [
        "S4cQTvDzsMaj",
        "qElF1a6fK8_g",
        "JcL4RacqLg4a",
        "Xu47-6EKOmiB"
      ],
      "private_outputs": true,
      "provenance": []
    },
    "kernelspec": {
      "display_name": "Python 3.10.5 64-bit",
      "language": "python",
      "name": "python3"
    },
    "language_info": {
      "name": "python",
      "version": "3.10.5"
    },
    "vscode": {
      "interpreter": {
        "hash": "26de051ba29f2982a8de78e945f0abaf191376122a1563185a90213a26c5da77"
      }
    }
  },
  "nbformat": 4,
  "nbformat_minor": 0
}
